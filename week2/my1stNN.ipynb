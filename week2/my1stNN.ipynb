{
  "nbformat": 4,
  "nbformat_minor": 0,
  "metadata": {
    "colab": {
      "name": "my1stNN.ipynb",
      "version": "0.3.2",
      "provenance": []
    },
    "kernelspec": {
      "display_name": "Python 3",
      "language": "python",
      "name": "python3"
    },
    "accelerator": "GPU"
  },
  "cells": [
    {
      "metadata": {
        "id": "gNCLG17_yglf",
        "colab_type": "text"
      },
      "cell_type": "markdown",
      "source": [
        "# my1stNN.ipynb (or MNIST digits classification with TensorFlow)"
      ]
    },
    {
      "metadata": {
        "id": "DSWa73NRymMu",
        "colab_type": "code",
        "colab": {
          "base_uri": "https://localhost:8080/",
          "height": 153
        },
        "outputId": "021b476f-c468-4eb9-9374-db1a4ea28b48"
      },
      "cell_type": "code",
      "source": [
        "! wget https://raw.githubusercontent.com/hse-aml/intro-to-dl/master/setup_google_colab.py -O setup_google_colab.py\n",
        "import setup_google_colab\n",
        "setup_google_colab.setup_week2_v2()"
      ],
      "execution_count": 4,
      "outputs": [
        {
          "output_type": "stream",
          "text": [
            "\n",
            "Redirecting output to ‘wget-log’.\n",
            "**************************************************\n",
            "inception_v3_weights_tf_dim_ordering_tf_kernels_notop.h5\n",
            "**************************************************\n",
            "cifar-10-batches-py.tar.gz\n",
            "**************************************************\n",
            "mnist.npz\n"
          ],
          "name": "stdout"
        }
      ]
    },
    {
      "metadata": {
        "id": "DlS46BLmyglh",
        "colab_type": "text"
      },
      "cell_type": "markdown",
      "source": [
        "<img src=\"https://github.com/hse-aml/intro-to-dl/blob/master/week2/mnist_sample.png?raw=1\" style=\"width:30%\">"
      ]
    },
    {
      "metadata": {
        "id": "q_NBhmbJygli",
        "colab_type": "text"
      },
      "cell_type": "markdown",
      "source": [
        "### This task will be submitted for peer review, so make sure it contains all the necessary outputs!"
      ]
    },
    {
      "metadata": {
        "id": "PiimdQINygli",
        "colab_type": "code",
        "colab": {
          "base_uri": "https://localhost:8080/",
          "height": 51
        },
        "outputId": "10ce76f2-ffa7-4f8e-f994-2aeb42266ba0"
      },
      "cell_type": "code",
      "source": [
        "import numpy as np\n",
        "from sklearn.metrics import accuracy_score\n",
        "from matplotlib import pyplot as plt\n",
        "%matplotlib inline\n",
        "import tensorflow as tf\n",
        "print(\"We're using TF\", tf.__version__)\n",
        "\n",
        "import sys\n",
        "sys.path.append(\"..\")\n",
        "import grading\n",
        "\n",
        "import matplotlib_utils\n",
        "from importlib import reload\n",
        "reload(matplotlib_utils)\n",
        "\n",
        "import keras_utils\n",
        "from keras_utils import reset_tf_session"
      ],
      "execution_count": 5,
      "outputs": [
        {
          "output_type": "stream",
          "text": [
            "We're using TF 1.10.1\n"
          ],
          "name": "stdout"
        },
        {
          "output_type": "stream",
          "text": [
            "Using TensorFlow backend.\n"
          ],
          "name": "stderr"
        }
      ]
    },
    {
      "metadata": {
        "id": "EjIh9W34yglm",
        "colab_type": "text"
      },
      "cell_type": "markdown",
      "source": [
        "# Look at the data\n",
        "\n",
        "In this task we have 50000 28x28 images of digits from 0 to 9.\n",
        "We will train a classifier on this data."
      ]
    },
    {
      "metadata": {
        "id": "k34YilAAyglm",
        "colab_type": "code",
        "colab": {
          "base_uri": "https://localhost:8080/",
          "height": 51
        },
        "outputId": "e9bcdb0f-18bd-484c-e8a5-c3dc83a64278"
      },
      "cell_type": "code",
      "source": [
        "import preprocessed_mnist\n",
        "X_train, y_train, X_val, y_val, X_test, y_test = preprocessed_mnist.load_dataset()"
      ],
      "execution_count": 6,
      "outputs": [
        {
          "output_type": "stream",
          "text": [
            "Downloading data from https://s3.amazonaws.com/img-datasets/mnist.npz\n",
            "11239424/11490434 [============================>.] - ETA: 0s"
          ],
          "name": "stdout"
        }
      ]
    },
    {
      "metadata": {
        "id": "68QgsGK_yglp",
        "colab_type": "code",
        "colab": {
          "base_uri": "https://localhost:8080/",
          "height": 683
        },
        "outputId": "9da3a5a9-0ddd-4f22-a5d2-f324201b8e20"
      },
      "cell_type": "code",
      "source": [
        "# X contains rgb values divided by 255\n",
        "print(\"X_train [shape %s] sample patch:\\n\" % (str(X_train.shape)), X_train[1, 15:20, 5:10])\n",
        "print(\"A closeup of a sample patch:\")\n",
        "plt.imshow(X_train[1, 15:20, 5:10], cmap=\"Greys\")\n",
        "plt.show()\n",
        "print(\"And the whole sample:\")\n",
        "plt.imshow(X_train[1], cmap=\"Greys\")\n",
        "plt.show()\n",
        "print(\"y_train [shape %s] 10 samples:\\n\" % (str(y_train.shape)), y_train[:10])"
      ],
      "execution_count": 7,
      "outputs": [
        {
          "output_type": "stream",
          "text": [
            "X_train [shape (50000, 28, 28)] sample patch:\n",
            " [[0.         0.29803922 0.96470588 0.98823529 0.43921569]\n",
            " [0.         0.33333333 0.98823529 0.90196078 0.09803922]\n",
            " [0.         0.33333333 0.98823529 0.8745098  0.        ]\n",
            " [0.         0.33333333 0.98823529 0.56862745 0.        ]\n",
            " [0.         0.3372549  0.99215686 0.88235294 0.        ]]\n",
            "A closeup of a sample patch:\n"
          ],
          "name": "stdout"
        },
        {
          "output_type": "display_data",
          "data": {
            "image/png": "[encoded data removed]",
            "text/plain": [
              "<matplotlib.figure.Figure at 0x7f85d4b12b00>"
            ]
          },
          "metadata": {
            "tags": []
          }
        },
        {
          "output_type": "stream",
          "text": [
            "And the whole sample:\n"
          ],
          "name": "stdout"
        },
        {
          "output_type": "display_data",
          "data": {
            "image/png": "[encoded data removed]",
            "text/plain": [
              "<matplotlib.figure.Figure at 0x7f85b7ace2b0>"
            ]
          },
          "metadata": {
            "tags": []
          }
        },
        {
          "output_type": "stream",
          "text": [
            "y_train [shape (50000,)] 10 samples:\n",
            " [5 0 4 1 9 2 1 3 1 4]\n"
          ],
          "name": "stdout"
        }
      ]
    },
    {
      "metadata": {
        "id": "4UGOKpLtyglr",
        "colab_type": "text"
      },
      "cell_type": "markdown",
      "source": [
        "# Linear model\n",
        "\n",
        "Your task is to train a linear classifier $\\vec{x} \\rightarrow y$ with SGD using TensorFlow.\n",
        "\n",
        "You will need to calculate a logit (a linear transformation) $z_k$ for each class: \n",
        "$$z_k = \\vec{x} \\cdot \\vec{w_k} + b_k \\quad k = 0..9$$\n",
        "\n",
        "And transform logits $z_k$ to valid probabilities $p_k$ with softmax: \n",
        "$$p_k = \\frac{e^{z_k}}{\\sum_{i=0}^{9}{e^{z_i}}} \\quad k = 0..9$$\n",
        "\n",
        "We will use a cross-entropy loss to train our multi-class classifier:\n",
        "$$\\text{cross-entropy}(y, p) = -\\sum_{k=0}^{9}{\\log(p_k)[y = k]}$$ \n",
        "\n",
        "where \n",
        "$$\n",
        "[x]=\\begin{cases}\n",
        "       1, \\quad \\text{if $x$ is true} \\\\\n",
        "       0, \\quad \\text{otherwise}\n",
        "    \\end{cases}\n",
        "$$\n",
        "\n",
        "Cross-entropy minimization pushes $p_k$ close to 1 when $y = k$, which is what we want.\n",
        "\n",
        "Here's the plan:\n",
        "* Flatten the images (28x28 -> 784) with `X_train.reshape((X_train.shape[0], -1))` to simplify our linear model implementation\n",
        "* Use a matrix placeholder for flattened `X_train`\n",
        "* Convert `y_train` to one-hot encoded vectors that are needed for cross-entropy\n",
        "* Use a shared variable `W` for all weights (a column $\\vec{w_k}$ per class) and `b` for all biases.\n",
        "* Aim for ~0.93 validation accuracy"
      ]
    },
    {
      "metadata": {
        "id": "1eigOp8Jygls",
        "colab_type": "code",
        "colab": {
          "base_uri": "https://localhost:8080/",
          "height": 51
        },
        "outputId": "9ccaf214-c3b3-4a46-f04b-32019e937912"
      },
      "cell_type": "code",
      "source": [
        "X_train_flat = X_train.reshape((X_train.shape[0], -1))\n",
        "print(X_train_flat.shape)\n",
        "\n",
        "X_val_flat = X_val.reshape((X_val.shape[0], -1))\n",
        "print(X_val_flat.shape)"
      ],
      "execution_count": 8,
      "outputs": [
        {
          "output_type": "stream",
          "text": [
            "(50000, 784)\n",
            "(10000, 784)\n"
          ],
          "name": "stdout"
        }
      ]
    },
    {
      "metadata": {
        "id": "dPccrlw_yglu",
        "colab_type": "code",
        "colab": {
          "base_uri": "https://localhost:8080/",
          "height": 85
        },
        "outputId": "fbdd037b-79bf-4966-8814-05902b06814b"
      },
      "cell_type": "code",
      "source": [
        "import keras  # we use keras only for keras.utils.to_categorical\n",
        "\n",
        "y_train_oh = keras.utils.to_categorical(y_train, 10)\n",
        "y_val_oh = keras.utils.to_categorical(y_val, 10)\n",
        "\n",
        "print(y_train_oh.shape)\n",
        "print(y_train_oh[:3], y_train[:3])"
      ],
      "execution_count": 9,
      "outputs": [
        {
          "output_type": "stream",
          "text": [
            "(50000, 10)\n",
            "[[0. 0. 0. 0. 0. 1. 0. 0. 0. 0.]\n",
            " [1. 0. 0. 0. 0. 0. 0. 0. 0. 0.]\n",
            " [0. 0. 0. 0. 1. 0. 0. 0. 0. 0.]] [5 0 4]\n"
          ],
          "name": "stdout"
        }
      ]
    },
    {
      "metadata": {
        "id": "ldNrkqWHyglw",
        "colab_type": "code",
        "colab": {}
      },
      "cell_type": "code",
      "source": [
        "# run this again if you remake your graph\n",
        "s = reset_tf_session()"
      ],
      "execution_count": 0,
      "outputs": []
    },
    {
      "metadata": {
        "id": "4nRlneN2ygly",
        "colab_type": "code",
        "colab": {}
      },
      "cell_type": "code",
      "source": [
        "# Model parameters: W and b\n",
        "W = ### YOUR CODE HERE ### tf.get_variable(...) with shape[0] = 784\n",
        "b = ### YOUR CODE HERE ### tf.get_variable(...)"
      ],
      "execution_count": 0,
      "outputs": []
    },
    {
      "metadata": {
        "id": "SXJt7OgJygl0",
        "colab_type": "code",
        "colab": {}
      },
      "cell_type": "code",
      "source": [
        "# Placeholders for the input data\n",
        "input_X = ### YOUR CODE HERE ### tf.placeholder(...) for flat X with shape[0] = None for any batch size\n",
        "input_y = ### YOUR CODE HERE ### tf.placeholder(...) for one-hot encoded true labels"
      ],
      "execution_count": 0,
      "outputs": []
    },
    {
      "metadata": {
        "id": "_j-jc0Q2ygl4",
        "colab_type": "code",
        "colab": {}
      },
      "cell_type": "code",
      "source": [
        "# Compute predictions\n",
        "logits = ### YOUR CODE HERE ### logits for input_X, resulting shape should be [input_X.shape[0], 10]\n",
        "probas = ### YOUR CODE HERE ### apply tf.nn.softmax to logits\n",
        "classes = ### YOUR CODE HERE ### apply tf.argmax to find a class index with highest probability\n",
        "\n",
        "# Loss should be a scalar number: average loss over all the objects with tf.reduce_mean().\n",
        "# Use tf.nn.softmax_cross_entropy_with_logits on top of one-hot encoded input_y and logits.\n",
        "# It is identical to calculating cross-entropy on top of probas, but is more numerically friendly (read the docs).\n",
        "loss = ### YOUR CODE HERE ### cross-entropy loss\n",
        "\n",
        "# Use a default tf.train.AdamOptimizer to get an SGD step\n",
        "step = ### YOUR CODE HERE ### optimizer step that minimizes the loss"
      ],
      "execution_count": 0,
      "outputs": []
    },
    {
      "metadata": {
        "id": "DDMqsIfYygl8",
        "colab_type": "code",
        "colab": {}
      },
      "cell_type": "code",
      "source": [
        "s.run(tf.global_variables_initializer())\n",
        "\n",
        "BATCH_SIZE = 512\n",
        "EPOCHS = 40\n",
        "\n",
        "# for logging the progress right here in Jupyter (for those who don't have TensorBoard)\n",
        "simpleTrainingCurves = matplotlib_utils.SimpleTrainingCurves(\"cross-entropy\", \"accuracy\")\n",
        "\n",
        "for epoch in range(EPOCHS):  # we finish an epoch when we've looked at all training samples\n",
        "    \n",
        "    batch_losses = []\n",
        "    for batch_start in range(0, X_train_flat.shape[0], BATCH_SIZE):  # data is already shuffled\n",
        "        _, batch_loss = s.run([step, loss], {input_X: X_train_flat[batch_start:batch_start+BATCH_SIZE], \n",
        "                                             input_y: y_train_oh[batch_start:batch_start+BATCH_SIZE]})\n",
        "        # collect batch losses, this is almost free as we need a forward pass for backprop anyway\n",
        "        batch_losses.append(batch_loss)\n",
        "\n",
        "    train_loss = np.mean(batch_losses)\n",
        "    val_loss = s.run(loss, {input_X: X_val_flat, input_y: y_val_oh})  # this part is usually small\n",
        "    train_accuracy = accuracy_score(y_train, s.run(classes, {input_X: X_train_flat}))  # this is slow and usually skipped\n",
        "    valid_accuracy = accuracy_score(y_val, s.run(classes, {input_X: X_val_flat}))  \n",
        "    simpleTrainingCurves.add(train_loss, val_loss, train_accuracy, valid_accuracy)"
      ],
      "execution_count": 0,
      "outputs": []
    },
    {
      "metadata": {
        "id": "YzIj4-1wygl-",
        "colab_type": "text"
      },
      "cell_type": "markdown",
      "source": [
        "# Adding more layers"
      ]
    },
    {
      "metadata": {
        "id": "mZJH3fyeygl_",
        "colab_type": "text"
      },
      "cell_type": "markdown",
      "source": [
        "Let's add a couple of hidden layers and see how that improves our validation accuracy!\n",
        "\n",
        "Rememeber that we need non-linearities for hidden layers (e.g. `tf.sigmoid`)!\n",
        "\n",
        "Now add 1 or more hidden layers to the code above and restart training.\n",
        "You're aiming for ~0.98 validation accuracy here."
      ]
    },
    {
      "metadata": {
        "id": "xXuIaXXdygl_",
        "colab_type": "code",
        "colab": {
          "base_uri": "https://localhost:8080/",
          "height": 309
        },
        "outputId": "22064c44-b6af-4e29-b496-521c503c356e"
      },
      "cell_type": "code",
      "source": [
        "s = reset_tf_session()\n",
        "learning_rate = 0.001\n",
        "input_X = tf.placeholder(tf.float32, shape=(None, 784))\n",
        "input_y = tf.placeholder(tf.float32, shape=(None, 10))\n",
        "W1 = tf.get_variable(\"W1\", shape=[784, 256], initializer=tf.contrib.layers.xavier_initializer())\n",
        "b1 = tf.get_variable(\"b1\",  shape=[256], initializer=tf.zeros_initializer())\n",
        "W2 = tf.get_variable(\"W2\", shape=[256, 256], initializer=tf.contrib.layers.xavier_initializer())\n",
        "b2 = tf.get_variable(\"b2\",  shape=[256], initializer=tf.zeros_initializer())\n",
        "W3 = tf.get_variable(\"W3\", shape=[256, 10], initializer=tf.contrib.layers.xavier_initializer())\n",
        "b3 = tf.get_variable(\"b3\",  shape=[10], initializer=tf.zeros_initializer())\n",
        "\n",
        "Z1 = tf.matmul(input_X, W1)+b1\n",
        "A1 = tf.nn.relu(Z1)\n",
        "Z2 = tf.matmul(A1, W2)+b2\n",
        "A2 = tf.nn.relu(Z2)\n",
        "Z3 = tf.matmul(A2, W3)+b3\n",
        "logits = tf.nn.sigmoid(Z3)\n",
        "\n",
        "probas = tf.nn.softmax(logits=logits)\n",
        "classes = tf.argmax(input=probas, axis=1)\n",
        "loss = tf.reduce_mean(tf.nn.softmax_cross_entropy_with_logits(labels=input_y, logits=logits))\n",
        "step = tf.train.AdamOptimizer(learning_rate).minimize(loss)\n",
        "\n",
        "###Copying the s.run code from above \n",
        "s.run(tf.global_variables_initializer())\n",
        "\n",
        "BATCH_SIZE = 512\n",
        "EPOCHS = 40\n",
        "\n",
        "# for logging the progress right here in Jupyter (for those who don't have TensorBoard)\n",
        "simpleTrainingCurves = matplotlib_utils.SimpleTrainingCurves(\"cross-entropy\", \"accuracy\")\n",
        "\n",
        "for epoch in range(EPOCHS):  # we finish an epoch when we've looked at all training samples\n",
        "    \n",
        "    batch_losses = []\n",
        "    for batch_start in range(0, X_train_flat.shape[0], BATCH_SIZE):  # data is already shuffled\n",
        "        _, batch_loss = s.run([step, loss], {input_X: X_train_flat[batch_start:batch_start+BATCH_SIZE], \n",
        "                                             input_y: y_train_oh[batch_start:batch_start+BATCH_SIZE]})\n",
        "        # collect batch losses, this is almost free as we need a forward pass for backprop anyway\n",
        "        batch_losses.append(batch_loss)\n",
        "\n",
        "    train_loss = np.mean(batch_losses)\n",
        "    val_loss = s.run(loss, {input_X: X_val_flat, input_y: y_val_oh})  # this part is usually small\n",
        "    train_accuracy = accuracy_score(y_train, s.run(classes, {input_X: X_train_flat}))  # this is slow and usually skipped\n",
        "    valid_accuracy = accuracy_score(y_val, s.run(classes, {input_X: X_val_flat}))  \n",
        "    simpleTrainingCurves.add(train_loss, val_loss, train_accuracy, valid_accuracy)"
      ],
      "execution_count": 11,
      "outputs": [
        {
          "output_type": "display_data",
          "data": {
            "text/html": [
              "<img src=\"data:image/jpeg;base64,/9j/4AAQSkZJRgABAQEASABIAAD/2wBDAAIBAQEBAQIBAQECAgICAgQDAgICAgUEBAMEBgUGBgYFBgYGBwkIBgcJBwYGCAsICQoKCgoKBggLDAsKDAkKCgr/2wBDAQICAgICAgUDAwUKBwYHCgoKCgoKCgoKCgoKCgoKCgoKCgoKCgoKCgoKCgoKCgoKCgoKCgoKCgoKCgoKCgoKCgr/wAARCAEgA2ADASIAAhEBAxEB/8QAHwAAAQUBAQEBAQEAAAAAAAAAAAECAwQFBgcICQoL/8QAtRAAAgEDAwIEAwUFBAQAAAF9AQIDAAQRBRIhMUEGE1FhByJxFDKBkaEII0KxwRVS0fAkM2JyggkKFhcYGRolJicoKSo0NTY3ODk6Q0RFRkdISUpTVFVWV1hZWmNkZWZnaGlqc3R1dnd4eXqDhIWGh4iJipKTlJWWl5iZmqKjpKWmp6ipqrKztLW2t7i5usLDxMXGx8jJytLT1NXW19jZ2uHi4%2BTl5ufo6erx8vP09fb3%2BPn6/8QAHwEAAwEBAQEBAQEBAQAAAAAAAAECAwQFBgcICQoL/8QAtREAAgECBAQDBAcFBAQAAQJ3AAECAxEEBSExBhJBUQdhcRMiMoEIFEKRobHBCSMzUvAVYnLRChYkNOEl8RcYGRomJygpKjU2Nzg5OkNERUZHSElKU1RVVldYWVpjZGVmZ2hpanN0dXZ3eHl6goOEhYaHiImKkpOUlZaXmJmaoqOkpaanqKmqsrO0tba3uLm6wsPExcbHyMnK0tPU1dbX2Nna4uPk5ebn6Onq8vP09fb3%2BPn6/9oADAMBAAIRAxEAPwD9/KKKKACiiigAooooAKKKKACiiigAooooAKKKKACiiigAooooAKKKKACiiigAooooAKKKKACiiigAooooAKKKKACiiigAooooAKKKKACiiigAooooAKKKKACiiigAooooAKKKKACiiigAooooAKKKKACiiigAooooAKKKKACiiigAooooAKKKKACiiigAooooAKKKKACiiigAooooAKKKKACiiigAooooAKKKKACiiigAooooAKKKKACiiigAooooAKKKKACiiigAooooAKKKKACiiigAooooAKKKKACiiigAooooAKKKKACiiigAooooAKKKKACiiigAooooAKKKKACiiigAooooAKKKKACiiigDxPxd/wAFFP2PvAmoXmn%2BK/ipc2gs9UbTReHwpqj2l5eLfw6fJb2lwlsYb2SO7nigkW3eQxOxD7drY2j%2B2f8As6R%2BObL4c3XjHUbfVLy6sLNlu/Cmpw29le3sUctpY3dw9sIbG8lSWIraXDxzkzRjy8uoPiVz%2Bxn%2B1bH4C8N/s66Zqfw9HgXwn8W9N8V22tXOo3r6rqtnb%2BLrXWxbyQC1EVrLHAlxFvEswuJFiJ%2Bzqzbeh8cfsffGzXfGPi3wPoup%2BFv%2BEA8c/F7QfHuq61dalcrrOnvp8mlTyWEVqtu0Mwll0mLbcNcRmJLhh5TmNSwB6Fa/t1fsv3cGr3w8f30Nno2n3N7LqV54U1OC0vYLedLeZ7G4ktli1HbNJHHi1aYlpEAB3rns/hT8ZfAXxp0m91fwJc6njTdQNlqVnrfh690q8tJxGkuyW1voYZ48xyxupZAGVwQSDmvmbTf2IPj5a6t4mtbTwl8ONN8MazoOp22reBV8Za1feHfFN5cXcEsdw2mTwCPQGCJcEvZyTnzLkMRL5Q3egfs4/sm%2BOvDGmXP/AAu3xl4hhgsfFa6n4L8M6H8ZPEOpQaLbC3tla2mvpmtZtTheeGSUQXUbxRLKY1BQnIB0kX7eP7Kk0fiC6HxNlW18N6Jqur32oy%2BHdQS0urLTSRfzWVw1uItSFuRiQWjTFSQCMkZ5vx3/AMFL/wBmXwh4Vl8TaPd%2BJtceDxF4b0yXTdP8Dav9qeLW78WdnfwxNaB7m1crO0c8IeOZoTFEzyvGjeKaH/wSx%2BI%2BjfBrXPgl5eiXX9m/DfxR4c8C%2BK9W%2BK/ia/LzajZT2VtI%2Bkz5sdLUQzFZjALjJGY0j4A7z4//ALEPxs8d%2BOH%2BIfw%2B1Pwo9zp/hz4cxaTp2r6nc20dzfeG/FE2szxSyRW0phhlidIklVJGDliYsAbgD1V/25/2ZFtteu4/G%2BpzJ4b8Sf8ACPakLbwfqsrPq/nPCdOt1S1JvLsOhJggEkgQrIV2MrGpqn/BQX9lDSbTRp5PH%2Bq3U%2Bv2Wq3WmaXpfgnWLy/ZNMuIrfUFks4LR7iGW3lmRZIpI1kT5iVwjleFtv2OvjToXha08QaFfeFZvFegftCaz8R9G0y61O5j0%2B%2Bgvl1C3NnPcrbNJDILbUZSJFhlCyxJ8rCvMNI%2BEf7S3wX/AG5vCGqeD9N8Dav478U%2BA/iX4l1jSNT128tdItftmt%2BFwlvBdpZyzN5Srb5kNuvnFZfli8wbQD6jsf2yP2adU8Gaz8QtK%2BKVvd6PoNxpMGoXtpY3MoLapDaTaeYVWMtcrcJfWvlvCHVmkKZ3I6r6bXwN8Nv2Q7XwR%2B1Z8Ff2dvBXxLsNdsPh58M9Ff432dmnD3ugLu8PPKqki2klutRnuUjf52i06PGVQGvvmgAooooAKKKKACiiigAooooAKKKKACiiigAooooAKKKKACiiigAooooAKKKKACiiigAooooAKKKKACiiigAooooAKKKKACiiigArzb4q/tdfs/fBPxlH4D%2BJPje4stR%2By2l1efZ9Bvru3023urh7a2nvbi3geGwilmjkRJLl41YxvgnY2PSa%2BQ/28f2Kv2o/2pNZ8Z6N4R%2BIWn/8I5rvhC0s/DFtqHxB1rSoNGvoXnkm8/TtPi8jU47ljApluZG8hVJWCXbscA9gh/br/ZUku9btpviqtrFoGn6hfXeoahot7bWVzb2EywXslndSwrDqAhldI3%2ByvKVd1U8sAdDwJ%2B2B%2Bz78R/EmneC/DXjC%2Bj1vVNTutPt9D1fwzqOnX0Vzb2kd5LHPb3dvHLbH7NLHMvnKgkSRShbIrwzQ/wBjX9rW8/ZXP7IXiDWvh5pWgaLpEn9ga1ZX99qF3qF9FqUN9YC5R7e3W2hjMRinKNO1xuDqIOYz1/jH4S/tp%2BNfiB4H%2BPWqaH8ME1/wZ4l1CS08HQeJtQWzGmXel/ZHLambAyTXAnHnAfY408s%2BVnK%2BawB2uh/t0/steJddsPDmh/EuW4utR0KfWotnh7UBFDpsM9zbzXk8pg8u1gSa0njaSZkUMEBP72Le3w9%2B3Z%2By74m8J6741sviFe21l4dsdPvdSj1fwrqdhctbX8jRWM0Ftc20c13Hcyq0UDQJIJpAUjLN8teO/s%2BfsI/tK/Bjw3q7xfFHwvY%2BKLj4J3fhXR/EWlxzSrY61Jq2rX0V6IZYgDAn263baWJ3RuuCAGbkrH/gnN%2B1HceNNR%2BImoa74div59G8Iz2dvrXxT1/xIw1jw7r39rQrLc6hbB/st3vlR/JSJbU7WjgmJY0AfUHw9/bC/Z2%2BJ%2Buy%2BF/Cnj%2BRdTttLvdQvdN1fRL3Tbizgs5Yorrz47uGJoHia4ty8UgWRVnicrskRj2nw98e%2BFvip4C0T4m%2BBr%2BS70XxFpNvqWkXU1nLbtNazxrLE5imVJIyUZTtdVYZwQDxXxx%2B3H8PfjP8Ybb4c/D3xh4x8IaH8UvFXjTUNFj8PeD724unh8D6lZNaa0vnSpDLMYoUS7N2YYIxPDbRBdxQyfbOnadYaRp8Gk6XZx29rawrDbW8KBUijUAKqgcAAAAD2oAmooooAKKKKACiiigAooooAKKKKACiiigAooooAKKKKACiiigAooooAKKKKACiiigAooooAKKKKACiiigAooooAKKKKACuC/aj1H4h6L%2Bzt4z174VeM4fD2vad4euryx1ibS0vPs3kxmRikUhCGQorKhcMisVZkkClG72uf%2BKHwy8JfGLwNf8Aw48dLqT6TqkJivotK12802WWM/eTz7OWKUKwyGUOAwJByCRQB4j8c/jj8Y9K%2BDXwVsvA0/iGXXviXrNnY6rqPhTT9Nk1NUGhX2qStbLqIFikkj2QQmYeWsckhUbggrP0fx98S/ibqPwSvvhp%2B1L4slm8YQRalr%2BnyeGdGtrWbS9MSI6nLNbyWUlxDLNcSW1m6R3KiJ70vGQIwD6tb/sm/Ba3%2BHll8Lxa%2BJpNK0y4hn0iS48f6zLe6bJEroj21692bm2IjkkjPlSrmN2jOUJWtrwf8B/hN4Av/D%2Bp%2BDvB0VhN4W8MzeH9BMVzKVtdOlkt5JYQpcq5d7WBjIwMhMf3vmbIB5B%2Bw58SvjJfNb/D39qDxF8QV%2BINz4RttXu9J8YaXoMFkyiQxXE1g2lQq%2BxZmRGjum8xQ0RC4YsffvEWoX%2Bm2ST6eLcuZQpFxIFGME9Sw54rkvhL%2BzR8GfgfqtxrXw38M3drcz6fFYRvfa9e34s7KN2eO0tVuppBaWysxIggCRjC/L8q4yfjJ8WX0L4z%2BD/gk2lI0fibw7reri%2BMpDRPp82mxCILjBDrqDsTnjyRwdxwnOEJLm6tL5vRHThcHiMbKUaKu4xlN/4YR5pP5LW276HVf8JZ4l/556X/AOBaf/HKP%2BEs8S/889L/APAtP/jlcvRXb7OPY47s6j/hLPEv/PPS/wDwLT/45R/wlniX/nnpf/gWn/xyuXoo9nHsF2da/ibxCtlHOE03e0rqwNymMAKRg%2BZ15P6etRf8JZ4l/wCeel/%2BBaf/ABysGb/kC2//AF9Tf%2BgxVVpKnELs6j/hLPEv/PPS/wDwLT/45R/wlniX/nnpf/gWn/xyuXop%2Bzj2C7Oo/wCEs8S/889L/wDAtP8A45Utx4m8QxxQOiabmSIs%2B65QDO9hx%2B85GAPxzXJVa1D/AI9LH/r1P/o2Sk6cbhdm9/wlniX/AJ56X/4Fp/8AHKP%2BEs8S/wDPPS//AALT/wCOVy9FP2cewXZ1H/CWeJf%2Beel/%2BBaf/HKP%2BEs8S/8APPS//AtP/jlcvRR7OPYLs6278TeIYJQkSaaQYkY77lAclAT/AMtOmSce1Rf8JZ4l/wCeel/%2BBaf/ABysHWP%2BPtP%2BvWD/ANFJVWkqcbBdnUf8JZ4l/wCeel/%2BBaf/AByj/hLPEv8Azz0v/wAC0/8AjlcvXIfET9oL4C/CDU4NF%2BLPxu8IeF7y6g8%2B2tPEXiW1spZotxXeqzSKWXIIyBjIIqansKMOao1Fd20l97aX4nTg8HjswrqjhKU6k3d8sIynKy3fLCM5adfd062PV/8AhLPEv/PPS/8AwLT/AOOVLe%2BJvENvezQQpppRJWVS9ygOAcDIMnBrwP8A4bd/Yv8A%2Bju/hf8A%2BF9p3/x6rGsftwfsWS6vdSxftffC5la5cqy%2BP9OII3Hn/XVzfXMtv/Gh/wCBw/8Akz1/9U%2BLf%2BhdiP8AwnxH/wAoPb/%2BEs8S/wDPPS//AALT/wCOUf8ACWeJf%2Beel/8AgWn/AMcrkNL1TTNb0y31rRdRgvLO8gSe0u7WZZIp4nUMroykhlIIIIOCDkV4/wDDz9vL4B/ECy8xbjxDp90YdXuhp954O1MSix0%2B6uLeW7bFthEYwELkgmR1hGZSEPXyU7X0/r5ngyU4ScZKzWjT3T7NH0f/AMJZ4l/556X/AOBaf/HKlsvE3iG4vYYJk00I8qqxS5QnBODgCTk186ar%2B278ANHVNT1TxibDT4YNQbVv7X0XU7S%2BsJLV7BXSSzltBInGoWzHzPLbZNE6LIjMyd78HfjX8PfivqttL4Ju9UmMOrS2l3Fe%2BHb6yks7iBojJDcJcwxtbvtmjZVlCmRG3IGUEgcIWJuz0n/hLPEv/PPS/wDwLT/45R/wlniX/nnpf/gWn/xyvF/Dnxq13Wv2jfEPwI1L4cy6daaP4bs9W0/XptUjc6ks00sTBYEBMSK0RAZ3DMQ37tVCs%2BD8Vf2vPDPwu%2BN2k/CS58Ny3lnJpl9e%2BKPEEd0Fi0QQ2M97FEU2kzSyRWszFAymNBGzcSxhjkgF2fQ3/CWeJf8Annpf/gWn/wAco/4SzxL/AM89L/8AAtP/AI5XxwP%2BCh%2Bpn4Z6L8Q5vBPw/tY9d8VWukQ3F58XoRp%2BmCbTrq9ZdQuorNzZ3UQthHJbmNk3TJtmcZx3njf9rOLwTrHw38Jx%2BErDW9V8c31kupN4f8QfaLDR7K5by0vBcmFTcI8pVIV2RmYLM4wIXo5ID1PpC08TeIZ5SkqaaAInYbLlCchCR/y06ZAz7VF/wlniX/nnpf8A4Fp/8cr5o%2BCH7Z%2BrfGjSPFPir4dfDXRtattM0me50Kx0fx9aTX86M00UR1C3dEOm%2BZGouF%2Baf9yW/wCWiiJo/En7UvxZX9nXwZ%2B0J8Pfgt4d1SLxf4e0e8i0PVfHM9lci/1IQC2sYTHps6zZknRDK5iAALMqqCQuSFwuz6b/AOEs8S/889L/APAtP/jlH/CWeJf%2Beel/%2BBaf/HK%2BV/iN%2B2/qfwp8f%2BIfBfi74V2Mh0nw/qOq2Vpo/i%2BK71No4J4oLU3lqsISxjvZJlFu5mkJH31Qh1SPUf20PiBp3ief4TTfBbRE8c6fqF9HqenXHjpotKW1ttOtb8zw3zWIeRmjvIlWNreP5opyWCR72fJANT6s/wCEs8S/889L/wDAtP8A45Utv4m8QyRTu6abmOIMm25QjO9Rz%2B84GCfxxXyj8HP240%2BPPxPvPBXw90bwVFYpb2U%2BlJrnxBa11rUobrQrLVo5otNWykzEBfRxM4mO3y5HwcBDasP2uvjNa%2BKdU%2BGWofAfwzJr1z4ms/DOgtp3xBuJdPudQNhPq12k876XHJAsFnbRtuSGYPJcrH8pVyE4QsF2fT//AAlniX/nnpf/AIFp/wDHKP8AhLPEv/PPS/8AwLT/AOOV8qp%2B3BrE3/CBamvwo0%2BGw8a6nZ6Strd%2BMY11ZtQe%2BNnfRWVkkDG9isWBluJmeELCryKrbcV1Phb9oX4leMl%2BI2laH8A5RrngnxXbaNpmj3XiWBDqUc9tZzpdzShGS1jWO78x1Xz5BHESqvIRDT5ICuz6B/4SzxL/AM89L/8AAtP/AI5Wp4b1bU9U87%2B0VtRs27Ps0qt1znOGOOgrw34B/Fy8%2BM3gi58Sap4ah0q907xBqWjahbWWom8tTcWV3JbSPBcGKIzRlozhjGhBDKVBU1698Nv%2BX3/tn/7NUzhFQuhpu51FFFFcxQUUUUAFFFFABXM%2BIPGWqaTq82n28FuyR7dpdGzyoPZveumrg/Gf/Iy3P/AP/QFrWlFSlqJ7Fr/hYetf8%2Btr/wB8N/8AFUf8LD1r/n1tf%2B%2BG/wDiqwaK6PZw7E3Zvf8ACw9a/wCfW1/74b/4qj/hYetf8%2Btr/wB8N/8AFVg0Uezh2C7Ok1Hx3rFnqE9pHb2xWKZkUlGyQCR/eqH/AIWHrX/Pra/98N/8VWXrn/IavP8Ar6k/9CNVaSpwtsF2b3/Cw9a/59bX/vhv/iqP%2BFh61/z62v8A3w3/AMVWDRT9nDsF2dJp3jvWLzUILSS3tgssyoxCNkAkD%2B9UP/Cw9a/59bX/AL4b/wCKrL0P/kNWf/X1H/6EKq0vZwvsF2b3/Cw9a/59bX/vhv8A4qj/AIWHrX/Pra/98N/8VWDRT9nDsF2b3/Cw9a/59bX/AL4b/wCKqax8d6xdTtE9vbACGR%2BEbqqMw/i9q5urWj/8fb/9es//AKKek6cLbBdmp/wsPWv%2BfW1/74b/AOKo/wCFh61/z62v/fDf/FVg0U/Zw7Bdm9/wsPWv%2BfW1/wC%2BG/8AiqP%2BFh61/wA%2Btr/3w3/xVYNFHs4dguzpLbx3rE8FxK1vbAwwh1wjcneq/wB7/aNQ/wDCw9a/59bX/vhv/iqy9P8A%2BPS%2B/wCvUf8Ao2OqtJU4X2C7N7/hYetf8%2Btr/wB8N/8AFUf8LD1r/n1tf%2B%2BG/wDiqwaKfs4dguze/wCFh61/z62v/fDf/FVMnjvWG0%2BW7NvbbkmjQDY2MMHJ/i/2RXN1ah/5Atx/19Q/%2Bgy0nTh2C7NT/hYetf8APra/98N/8VR/wsPWv%2BfW1/74b/4qufmmhtoWuLiZY40Us7uwAUDqST0FeU%2BP/wBu39jX4X3Ell42/aY8G2tzF/rbSHXIridPYxwlnB9iKxr1cHhY81aUYr%2B80vzaPSyzJs5zqt7LLsNUry7U6c6j%2BahCVvnY92/4WHrX/Pra/wDfDf8AxVH/AAsPWv8An1tf%2B%2BG/%2BKr5EuP%2BCxX/AAT2hndYvjbd3EEZ2ve23hDVHhDem4W3P4cUkv8AwWK/4J%2B3Eax%2BGfjBqGuXcn%2Bq07SPB2qPO/0V7dQPxIrz/wC3OH/%2Bgmn/AOBr/PX5XPrV4U%2BKDt/wiYv/AMEVEl6tpJf9vOPnY%2Bwn8d6wunxXYt7bc80iEbGxhQhH8X%2B0ah/4WHrX/Pra/wDfDf8AxVfJD/8ABUG01fS4V8E/sK/tEa1bi4kaLUbb4bGO2lyqfdd5gTjHPA6j1qD/AIeFfGG650v/AIJt/Gtwen2vSbeA/rIcUlnWTPad/SFR/lTH/wAQt47j/EwsYf46%2BEi/mpYu69Gk/I%2Bvv%2BFh61/z62v/AHw3/wAVR/wsPWv%2BfW1/74b/AOKr5B/4bz/aRJ3L/wAEzvijtPQm7swfy3Uf8N4ftLS/LZ/8EzPiczek2oWcY/MtR/bOVf3v/BdX/wCVh/xDDjL%2BSj/4V4P/AOaj6%2B/4WHrX/Pra/wDfDf8AxVTXXjvWIILeVbe2JmhLtlG4O9l/vf7Ir47/AOG1f2zrj/kHf8EvfGDen2nxtp0P8wasXn7Xv/BQq5t7UWn/AASo1LC25EbXHxe0mPePMc55j45JH4UPOMtvpGb/AO4VX/5AP%2BIZ8Ur4p4aPrjsEv/dln1t/wsPWv%2BfW1/74b/4qj/hYetf8%2Btr/AN8N/wDFV8g/8NMf8FM9Q4s/%2BCZOn2Ho1/8AGfTZR%2BUceaP%2BFy/8FWLvm3/Yx%2BH1pnoLr4iCTH12JR/a%2BCe1Kq/%2B4VT9Ug/4hxnUf4mMwUfXH4V/%2BkzmfX3/AAsPWv8An1tf%2B%2BG/%2BKrpvD%2Boz6tpEOoXCorybtwQEDhiO/0r4b/4Xd/wVT0Q%2BZqf7D/gfW16%2BXo3xKjtmx6ZuEIzX1p%2BzN4r%2BI/jf4IaJ4o%2BLfwqPgnxDci5/tHww2tw6j9iK3MqJ/pEICSb0VJOBx5m08g1pTx2HxMuSEJxe/vQlH8WrfK9zyM64SzDIsLHEVcRh6sG%2BX9ziaNZ3ab1hCXOlo/ecOW9le7V%2B8ooorc%2BZCiiigAooooAKKKKACiiigAooooAKKKKACiiigAooooAKKK8f/bk8X/Fj4ffAK58dfCHx7D4fvdL1nTpL64fSIruS5tXu44nt4/OykRcyLukKOQgcKFdlkQA9gor5s/bl%2BO3xY%2BHnj7wz8PvhvqvizSrOfwR4l8U65rHg3QNM1C8hj0x9NiQPFqRET2w/tB5ZUiIuZPJjSEguxHn/wAUf2tfjZ8DYviV8a/G/iPxxPof2HW774PwPpGhjwvrK2vhhtVggZo4jqiu5tr2UPI6xnyvL3k7Y2APtOvmP9q7Vv7O/b3%2BANnux9v8KeOIMeuF0aX/ANp13X7PPiP4m6P8X/HPwH%2BI/wAULzxp/wAI5o%2BhatZeItS06ztbg/b1vI5bZls4YYiqSWJkT5N4W5Csz7Q1eSftyXM9r/wUZ/ZQVCqx3S%2BOraR3kCqC2l2rqCSQOTHXn5lP2dGEv%2BnlL8akV%2Bp9rwFh1is6r0u%2BExr/APAcJVl/7ae20Va/se7/AOe1r/4HRf8AxVH9j3f/AD2tf/A6L/4qvfuj4Yq0Va/se7/57Wv/AIHRf/FUf2Pd/wDPa1/8Dov/AIqi6AJv%2BQLb/wDX1N/6DFVWtOXSro6RBH5ttkXMpP8ApkWOVj77sdv85qt/Y93/AM9rX/wOi/8AiqSaAq0Va/se7/57Wv8A4HRf/FUf2Pd/89rX/wADov8A4qndAVatah/x6WP/AF6n/wBGyUf2Pd/89rX/AMDov/iqs32lXTW1moltvltiDm8iH/LVzx83PXtSbV0BmUVa/se7/wCe1r/4HRf/ABVH9j3f/Pa1/wDA6L/4qndAVaKtf2Pd/wDPa1/8Dov/AIqj%2Bx7v/nta/wDgdF/8VRdAGsf8faf9esH/AKKSqtaeq6VdSXKsstt/x7Qj5ryIdIlHdqrf2Pd/89rX/wADov8A4qkmrAVa5D4ifs%2B/AX4v6nBrXxZ%2BCPhDxReWsHkW134i8NWt7LDFuLbFaaNiq5JOAcZJNdz/AGPd/wDPa1/8Dov/AIqvG/2kv26P2Vf2RfFFh4N/aD%2BK8eg6lqdh9tsbePSLy9EkG9k3brSGVV%2BZWGCQeM4xXNjKuBpUHLFuKhp8duW/T4k16FRzieRP65HEvDtac6nKm1fS3PGUGr7W5tdtS3/wxF%2Bxf/0aJ8L/APwgdO/%2BM1Y1j9h/9iyLV7qKL9kH4XKq3LhVXwBpwAG48f6mvJv%2BHzX/AATX/wCjkP8Ayz9Z/wDkOrGq/wDBaH/gmnc6pc3EP7SW5JLh2Rv%2BEO1kZBYkf8udeN9f4Rv/ABKH/lL/AORNP%2BIpYr/oez/8LKv/AM0H0jpel6ZommW%2Bi6Lp0FnZ2cCQWlpawrHFBEihVRFUAKoAAAAwAMCvne1/YI12Dw74t8Pt8b1jGveHdW0fS7iz8OvE9lb3mrT6kPOP2om42m4eFwvk%2BYnTyyc19FeFb/TvG3hfTfGXhnUra503V7CG90%2B4NwkZlglQPG21yGXKsDhgCM4IBrx3Uv24vhZp/hS38Vjw/qzq3h9dV1K2mvtMtDpOdRGnC2vJbq8igt5vtK3K/NL5f%2BhT/PkIH%2BgUqbimnp09P%2BGMvaOr79731vve%2Bt763ve9763v1PM9O/4JgPY6hrE1t8VdA02y1a8u7yPSPDnw%2BXT7SymuU0JZViiS7KrF/wASNCqY3ZuXLO5GW%2Bh/g38J9X%2BHXxN8ReIrfxXbXVl4v8ZHW7qyfS2WWBzZ6faRxpKJiCqizd2JTLecoG3yyZPFdG/4KF%2BE/EfjO11awu7S28EXug6NewXz28VzcxTT3HiWK9SWSK88kRx/2ENssPnAncV81ZUZO9/Zz/aX8Y/GX48ar4Sb4Q6roukab4b8L6vYw6vJYx36jUptVLTy%2BXeyRtB5djbhUjzMrySB07IXhbQNSb/hS/xjh/aS1P46WfxY8Mrp174XTRLfQZPBNw08McTzzQyNcjUQrsJp8sBCoZF2DYx8wc/8Qf2CPhN8QfiPZfEi91jXrSeXUr6%2B8UWNr4n1T7Jq8t1pj6e5Fubww2/7tkHEbBkiEZBWuw8b%2BPPiv4Z/af8AA/wvtrDw1/wififSdTe4u5L4vqBu7aNZAFAdYoogrLyfMaQuRiPy8yYv7Sfx/wDGPwr8deEfh/8ADjR9I1K7v/E%2Bhx%2BL57%2B6DR6XpWoapFp8ZXy5B/pMskkhiDZXba3DMDsVWbcA1MHwV%2ByR8U/AVw/inQ/jh4f/AOEiisND0uyuZvh2p086bpcV9HBHNai8DtcN/aErNcQzQcxQqqLGrxvm6f8A8E2vhZpuj%2BFWtfGXiKDW9C1rTdR1XVLHxDqVpb6mbSeWcRCygvEt4E3zSiPCt5SsQN2STnfCb9q39oP4u%2BN9f8C6Bb%2BEIbyDStVvLRr3w9qEUGnCy1iKyPkzeey%2BI1MDyyF7Dy0WWKKF2jNyjJoeGP2nfj54g8AeBPGsGleD5LXV/itL4W8R3dzBc2Ny1t9va1hePTZZjNYTuoLvHdSF4dgDRt5v7pXgGpufC39jfxh8MNSe48D/ABV0KA6L4L1Lw54GiufBcjR6fp91cpdSi9Ed9Gb%2BVRAkcbq1uFJd2WQu2b/wz/Zg8V%2BEvh38IPAXjL4oafqy/Ca5haObTvDb2cerRwaRc6bbq8b3c3lun2gTFtzBnjXCpwRv%2BF/HHxx1f9pjx78FJT4Q02y07wDZat4Rv18y9lEt0%2Bo27PeKJ4VdQ9opEMZQhckynd8nkV/%2B0z%2B0b4fsYJ/FPxC%2BF%2BnaTqvjfV9G0fx7qXhy6t9N8vToCjRywf2ozCa4vorqKBvPCvHbblSRpUSi8Ew1Ol%2BKH7GPiz406tdJ8Svjq15pdrBrQ8K/ZvDixajpst%2B6unnXRnZLqK2KqIohBHkRQ%2BY0jR7mj8U/sa%2BOfF%2Bi6vd698VPCd/4j8ReJxq%2Bs3urfDKK905Gj06Kxt/slnPdtJaywrCkqSm4k/ePKWVkdUTO0/8Aaz%2BMusTfCnx9Z6P4Yg8NfFTR7HUNL0W8tLqKWC3n0Zr5nn1iSRLK2nE48pbMxvLIi%2BYrcusXK/Br9t749/F670LwJpy%2BE7fW/F15ocGlatqXhO/sLfTXu9M1nU7pGsrm8WXUII4dHZIb%2BGWO2uZLgiMnyJAS8A1PTtK/ZC1DRda8I6Dp3xGsU8DeCdS0y%2B0PQR4XRdTjksdNFhBEdQSZQ8O1Q7BoDKdzR%2BaIyEXRg/ZS1u18FaaPDHxNt7fxT4Y8f6v4x0vXr/QGuLaS41G4v1lt57ZbiN5I1ttTlhXbMhBhicYC7K4dP2z/AIjatYfD/SPDfhjQJ9avfGNvpHxIma4Y2umRf2zNozG3AlDCW4ubeeSEOWCw28pfJ2b9fxV%2B1R8X/hl4U%2BNWoeNtD8KpdeEfFegaD4UTTnuLqNV1e402C1mu9rb5ykl6kkiQonAMSlmAkYcoWCzEtv2L/GNl4Y0L4aQfHgz%2BFLLUNI1TWtPvvDSyXdxqVlqX9pSXNpcJOi2f2m5CmRWjnKqCI2jJ3B9/%2BzB%2B0Xcp8UTpv7S3h/TJ/iRqFrdJeaX4Bu4Z9L8qCztHRZBq25t9pavHvQxSJJN5qMuwIfPvip%2B3Z8Xvh/4K07WNF1jwdrF2mieIL6%2BntfBurAXNxp93DDHZXVo86z%2BHFKzYmvL4yW9uw3MduM%2B3aXr/AMfT%2B1MfhbN4y8E6l4bg0CbWtXgtNAltr3TYJp2h06E3TalJHM8rRXZLCBARZv8AKm9cF4BqdN8GvAur/DP4d6f4D1W48PMmlxC3sYvC3h6TS7OC3UARxpBJc3BUgDk%2BZz6CvUPht/y%2B/wDbP/2asH%2Bx7v8A57Wv/gdF/wDFV0fgCzltPtfmvEd3l48qdH/vddpOKVVr2bBbnR0UUVyFhTLm5trK2kvLy4SGGFC8ssrhVRQMliTwABzmn1z3xc8FXHxK%2BFHif4c2moizl1/w9e6bFdkE%2BQ08DxB%2BOeC2fwoA5rwT%2B1p%2Bz98QPBuvfEHQPHph0fwzo6avrd5rOkXemi3014pJo78LdxRNJavHFKyXCBonET7WbY2KMn7aP7PUPhyPxHJ4i1wGXWG0tNG/4QfV/wC1hdLai7ZDpv2X7YoFsVnLmEII2V87WBPkvg34L/F7x9pvjhPi9%2BzdeWNp4k%2BBel%2BA5PDs3iixjS%2BuLKLVXuGNzazStBbTNqKQwShDMmyWR4o/lB5XTf2cP2hbDUNS%2BP2peCPitf8Aiq78WwNo%2B3xh4Yi8SWVjForWkks42nSXjmlJiaKM71jSK4BM4ZQAfZnh7xBonizQLHxT4Z1WC/03U7OK70%2B%2BtZQ8VxBIgeORGHDKykEEdQRXH%2BM/%2BRluf%2BAf%2BgLR%2Byz8LNZ%2BBv7M3w8%2BC3iK/jutQ8JeCNK0e/uIJWeOSa2tIoXKM/zFNyHaW5xjPNWPFt5bxeILiOTSreQjZl3aTJ%2BRfRwP0raj8QpbGHRVr%2B0LT/oB2v8A33L/APF0f2haf9AO1/77l/8Ai66bvsQVaKtf2haf9AO1/wC%2B5f8A4uj%2B0LT/AKAdr/33L/8AF0XfYA1z/kNXn/X1J/6Eaq1p6xfWqavdI2j2zEXLgszS5PzHk4fFVv7QtP8AoB2v/fcv/wAXSTdloBVoq1/aFp/0A7X/AL7l/wDi6P7QtP8AoB2v/fcv/wAXTu%2BwBof/ACGrP/r6j/8AQhVWtPR761fV7VF0e2Um5QBlaXI%2BYc8viq39oWn/AEA7X/vuX/4uld32Aq0Va/tC0/6Adr/33L/8XR/aFp/0A7X/AL7l/wDi6d32Aq1a0f8A4%2B3/AOvWf/0U9H9oWn/QDtf%2B%2B5f/AIurOlX1q1ywXR7Zf9GmOQ0v/PJuOX79KTbtsBmUVa/tC0/6Adr/AN9y/wDxdY3j74qfDj4V%2BFrrxt8SdU0TQ9Jsoy9zqGqXzwxIPTc0gyT0AHJPABNKc404uUtEt22kjWhQr4qtGjRi5zk0lGKbbb0SSSbbb2STb7F%2BivlmP9tf9pb9rHUXsf2AvgNolr4Vidkl%2BKfxMivbawuyOP8AQbVHE0/tIw2gghlXgl7fsQ/tY/FJvO/aL/4KIeMfs8py%2Bi/DPTYNAijXvH56h5JF92GcHFeQs4eI/wBzoTqr%2BbSMH6Sm1decYtdm9z9An4fxyp24hzKhgp7uk/aV8RHylRoRl7OX9ypWhJfajF%2B6fTGseOvBHgjTrq48aeMdK0iOW2Aik1TUYrdXIljJwZGGa8t%2BI/7e37Gfwr0K41/xb%2B0t4OKW45s9M1yG%2Bu5D2CW9uzyufovHfFc74H/4JSfsF6Et5q3iP4Fp4s1TyA0%2Br%2BMddvtQnnPmIMsHm8sdTyqD8uK9A8C/sk/sifDPV7fxF4B/ZS%2BH2lajaPutdStPDka3ELeqS/fU%2B4NHPxBUvaFKHrKc2vuUU/S9vMhUPCnBtc9fG4m38tPDUIy8r1KlacU9r8rklry30PFLT9rT9uP9oaQ6h%2ByT%2ByTZ6F4cI/0XxX8ZLyWxF7no0Vlb5m8vHzBySGBHQ8VZX4T/APBWXxIft2t/tZ/DLw1L/wA%2BHh3wJJewf993TB6%2Bq/7QtP8AoB2v/fcv/wAXR/aFp/0A7X/vuX/4umspqVNcRiKkn5S5I/KMErf%2BBPzHLj3DYR8mVZRg6MFt7Sj9ZqNf3qmInLmb62pQX8qSsfKjfs%2Bf8FQtW/4l%2Bpf8FBvDemwP/rLzS/hXayTgeirK%2B0fXqKsQ/wDBOT4l%2BJtLmvvij/wUd%2BOl/P58Ykj8NeI4dGt3yrnmKKJx2457mvqP%2B0LT/oB2v/fcv/xdWYr61OkTv/Y9sALmIFd0uD8snP38/wD66TyPAy/ic8/8VSo/w54k/wDETeKaX%2B6LD0H3pYPCQf8A4F7Co/xR8mp/wST/AGYdZmQ/FTxb8SPHkCMG%2Bx%2BMPH95cRMw6ErEY8/nivVfh7%2Bxv%2Byj8KrdIPAH7Ovg3TmTGLlPD8DznHTMzqZG/FjXqn9oWn/QDtf%2B%2B5f/AIuj%2B0LT/oB2v/fcv/xddFDKMrw0uanQin3sm/vlzP8AE83M/EDjnOKPscZmdeVP%2BRVJQh/4BT9lD/yQpW1tbWcC2tpbpFEgwkcaBVUegA6UJbwRyNNHAiu/32VQC31Perv9oWn/AEA7X/vuX/4uj%2B0LT/oB2v8A33L/APF16PyPkXKTbd9wm/5Atv8A9fU3/oMVVa05b61GkQP/AGPbEG5lAXdLgfLHz9/P/wCqq39oWn/QDtf%2B%2B5f/AIukm%2BwirRVr%2B0LT/oB2v/fcv/xdH9oWn/QDtf8AvuX/AOLp3fYCrVrUP%2BPSx/69T/6Nko/tC0/6Adr/AN9y/wDxdWb6%2BtVtrMnR7Y5tiQC0vy/vX4Hz/jz60m3daAZlFWv7QtP%2BgHa/99y//F0f2haf9AO1/wC%2B5f8A4und9gKtd54M/wCRatv%2BB/8AobVxv9oWn/QDtf8AvuX/AOLrtfCUiS%2BH7eSOBIwd%2BEQnA%2BdvUk/rWNa/KVHc0aKKK5igooooAKKKKACiiigAooooAKKKKACiiigAooooAKKKKACuO%2BN3wG%2BG/wC0R4QHgL4qWusXGlfaUne10jxTqGlGV0IZfMexnheRQwDBWJXcoOMgEdjRQB5v4x/ZN%2BCXxA8LWXhDxppev6ja6fFcQQXFz431c3j288aR3FtLd/avtE1vKscfmQSSNFIUUurFQQ1/2Qv2dpvGU3je6%2BHnn3ExnY6bc6tdyaXHJNZmymlj05pTZxSvbM8LSpCrskkiliJHz6VRQByHwg%2BBHww%2BBOm3umfDbRbu3GozRy31zqet3eo3M5jiSGJWnvJZZSiRoqJHu2IBhQMnPzV/wUrT%2BzP2o/2WfFnTyPiNqVhu/wCvqw2Y/HZX2JXyB/wVtX%2Bzbn9nPxYOPsn7SPh%2B1dv7qXEdyrH6fKK8vOdMvcu0oP7qlM/QPC/3uNKNL/n5TxMP/A8Hi1%2Bh7fRRRX0h%2BdhRRRQBam/5Atv/ANfU3/oMVVatTf8AIFt/%2Bvqb/wBBiqrSQBRRRTAKtah/x6WP/Xqf/RslVatah/x6WP8A16n/ANGyUnugKtFFFMAooooAtax/x9p/16wf%2BikqrVrWP%2BPtP%2BvWD/0UlVaS2AKKKKYBVrXP%2BQ1ef9fUn/oRqrVrXP8AkNXn/X1J/wChGl1Aq14refsLfCx9U8QeIdD8W%2BJdK1TXfGdr4mh1KzuLSR9KuoJJplitknt5IvJae7vZ2SVJT5t7M4KnZs9qooaTA%2BftB/4Jv/BDR7iR9R8W%2BLdXgluFke01XUbd0aMXGtXBhZkt1kdGfXr7JZi5CxfPlWL9z8Av2WtN%2BDfxBPjDT/jB4y1rUNQstE0q7m16Wwk32WmtefZ4MRWkYUf6bIXYYdjGh3AmQv6RVrQ/%2BQ1Z/wDX1H/6EKTikh3Z5n49%2BAEvjz4xeGfjGfjJ4r0qbwqJRYaHpkWmGxmEoVZxL59lJOfMRVRtsqlQMpsb5qzvil%2Bxr%2Bz/APGyTTtW%2BKvw/wBJ1zXNO1TTr0eKL/w/p76jOLO7S5igkm%2Bz8wkp5bIoXMbMMgsWr1OinZCPFLD9hrwFphX7B8UfG0I02yntPCHkalaxnwxBLqFrqDx2jJbBpFM9laZW7NwDHAIiDG8iuut/sVaVq3h7TtEs/j548064tPF7eKNQ1a0XR3udW1XzEdLi487TpI18sIqLHCkUewAFWwCPaqKOVBc4XwX%2Bz7Pov7Q%2BofH%2BT41eLby61Dw7/ZdzoF1DpY082sCXckKDy7FbgbZLqV93nZJIDEqNtZg/Zk0/Tfg94Z%2BDngn4v%2BNvDdv4Ysxawazomo2y3t9H5DxSfafNt5IZGfeZC4iVlkAdChFer6P/AMfb/wDXrP8A%2BinqrSsrsZ45c/sQ/Cm5nstGPiTxIPCFg9nJD8Pvt8TaR5tpYpY27jfEbmMJDHEfKjnWIvGJChdnZqel/sLeCdLS11IfFzxvceINJj0uHw34quLnTzfaLb6fHeRW8EAFmIHXytQvY3aeKV5FuGDs21Cvt9FPlQrnit//AME%2Bv2VNW0Hw9pesfCrSb6/8O6nZX8fiS/0ezn1S%2Bmt7n7SftFzJCWkEspdpANoPmNt25409P/Y60e71D4g614h%2BNnjXVP8AhNXsr%2B5trtdKjTTb%2BzuLN7G8tTBYRustu1rCUEjSISuZEkPNer1a0/8A49L7/r1H/o2Ok4qw7s8A1b9gP4c6zYajBc/FDxql54istSsfGurQ3ditx4ltL50a4guv9E8uJdqCNGtUgeNMhWBOa9R8LfC/w94R8c%2BIviBptxdPe%2BJEso7uOZ0MVvFaxGOKOEBQVT5nYglvmkYjAOK6SinZCCuo%2BG3/AC%2B/9s//AGauXrqPht/y%2B/8AbP8A9mqKv8NjW51FFFFcZYUUUUAFFc34L%2BMfwh%2BJOj6h4h%2BHfxU8N6/YaTM8Oq32i65b3UNnIi7nSV4nZY2VeSGIIHJrJl/ag/Zoh8Bw/FOb9ojwKnhi4vjZQeI28W2YsJLkKWMK3Hm%2BW0mFJ2Bs4BOOKAO6rg/Gf/Iy3P8AwD/0Ba7i0u7W/tYr6xuY5oJo1khmicMkiEZDKRwQRyCK4fxn/wAjLc/8A/8AQFrah8ZMtjLooorqJCiiigC1rn/IavP%2BvqT/ANCNVata5/yGrz/r6k/9CNVaS2QBRRXm/wC0v%2B1X8IP2U/B0Xin4n6vM1zfTfZ9C8P6XD5%2Bo6vcEgCG2gBBdiSoycKNwyRkZzr16OGourWkoxW7eiX9f8BJs78syvMc6x9PA4ClKrWqO0YRV5N%2BS8km220kk3JxSbXqWh/8AIas/%2BvqP/wBCFec/FT9qH9nP4IBl%2BLfxv8L6BMv/AC6ajrMKXDf7sO7zG/BTXhWi/B79s79vPWbS9/aN1%2B/%2BDnwzuLmMw/D3wvqGNd1WIsMfb7xR%2B4UjrEgzglWVWUNXpPwq/wCCdv7E/wAGWS48E/s5eHGukORqGs2p1G53d2Et2ZGUn/ZIryY43M8Y74Wkow6Sqcyb81CK5rduZxb7JH29Th3grh793nmPnWxC%2BKlg1TnGD/lniqkvZOS%2B0qMK0Y7e0kzlNY/4K8f8E8NGfyD%2B0Vb3kxOI4dN0DUblpD6Ax25GfxrMuv8AgqLpet276l8JP2NPjf4t0%2BBDLcatZ%2BB2t7XyhyzRtK4aRsAkJtBPSvpjR/DPhvw8nlaB4fsbFcY22dokQx/wECr1W8NndT4sTGP%2BGl%2Bs5v8AIzWc%2BGuEd6OT16z/AOn2MaX3YfDwd/WbX3Wfnn7O/wC1P8Df2p/CjeK/gz44g1EQELqWmSgxXunSdDHcQN88ZyCMkbWwdpYc12nij4heB/hV4a1Hx/8AEfxTZaLoumafcS32o6hOI4ol8pupPUk4AUZLEgAEkCvGvj3/AME%2Bfgd8cfGsXxX0rU/EXgDxqmVl8afDrVv7M1G5jYYeOZ1VllyONzKXGAN2BisfwR/wSY/Y4t/EkHib4jaB4j%2BIGqWaSTw3/j7xXd6gTIqMwLx71ikGQMqyFT3FQ6ufxi6fsoSf8/O4xfnycrkn3V7dpdtngPCqtUWLWOxVKm9Xh/q8alWPeKxDq06EovaNR01NLWdO6tLiNK1r9pH/AIKU60uveDPF/in4RfA%2B2djp2saPObLxD4vbkCaJyCbS07gkEuOzZ/ddp4Q/4JRfsX%2BH9ft/F/i3wNqnjbWbaQOmp%2BOvEV1qTMwOfnjdxC/PZkIr6NgghtoUtraFY441CxxooCqoGAAB0Ap1VSyTByftMWlWqbuUldX/ALsW3GKXRJN923dkY3xL4gpReEyCby/CJcsaVCXLJx6urWUY1q1Se85SqKLbtCnCCjEZa2ttZW0dnZ26QwwoEiiiQKqKBgKAOAAOMU%2BiivZ2Pzttt3Za0/8A49L7/r1H/o2OqtWtP/49L7/r1H/o2OqtJbsQUUUUwCrUP/IFuP8Ar6h/9BlqrVqH/kC3H/X1D/6DLSYFWiiimAUUUUAWpv8AkC2//X1N/wCgxVVq1N/yBbf/AK%2Bpv/QYqq0kAUUUUwCrWof8elj/ANep/wDRslVatah/x6WP/Xqf/RslJ7oCrRTY5oZSyxSqxRtrhWztPofQ06mAV3ngz/kWrb/gf/obVwdd54M/5Fq2/wCB/wDobVjX%2BAcdzUooorlLCiiigAooooAKKKKACiiigAooooAKKKKACiiigAooooAK8s/bE%2BLHxV%2BCXwZk%2BI3wn0nQLq5stYsU1Q%2BIWnMcVlLcJFIYo4SpllJdVUM6Ku4uS%2BwRSep1wP7R3wFg/aP%2BHMnwy1H4n%2BJPC9jcXUM15P4YSwM1wIpFkSNje2twqqHRG%2BRVYlQN2CQQDzz9s39rHxR8BfGHhv4feDNV0PSrrVvDWueIb/WvEPhfU9Xtbe001rGNo3i01hLAjvfoz3j7oreOCRnRiyis748ftLftH/CrxwLXwtaeB9fs9Z0XWtQ8PeGtIsry71GCxstEmu49WuLhZkR4H1BILLyEgUn7bCyzltyDuPiR%2ByZZfFTRLC08UfHDxsNWs9I1HR5vE9l/ZcN9eaZfrALyykC2PkLHK1rbuXjiSVGiBSRBkGn4Z/Yw0Pwb468SeMfC/wAcPHVja%2BKLSKzv9DtZdMjigs4bL7HbW1vdLYi/t4oFzLEsdyCszySZLSSbgC5%2ByR8avEHxj8KX03jXx7pOqa7YG1OpaXYfD/U/Dc%2BmedAsirLbalcTTSK3zFJ12xuFO3dtJrxz/gs9HJbfs8eAvE8cZJ0P43eGb/cB93bPImf/ACJj8a%2Bgfg98BrD4Ta1rni7UPiJ4j8XeIPEMdnDqfiDxQ9p9oe3tVkW3t1Wzt7eFUQzTvxHuZpnLM2Rj5%2B/4LmK1r/wTu8ReJEXLaL4j0O%2BXHUbdSgXP/j9eVnn/ACJ677Rb%2B60v/bT9A8KdfErKIfz14Q/8GKdP/wByHu/9h61/0B7r/wAB2/wo/sPWv%2BgPdf8AgO3%2BFVFZXUOpBBGQR3pa%2Bk1Pzstf2HrX/QHuv/Adv8KP7D1r/oD3X/gO3%2BFVaKNQNOXR9XOkQRDSrncLmUlfIbIBWPB6ex/Kq39h61/0B7r/AMB2/wAKJv8AkC2//X1N/wCgxVVpK4Fr%2Bw9a/wCgPdf%2BA7f4Uf2HrX/QHuv/AAHb/CqtFPUC1/Yetf8AQHuv/Adv8Ks32j6u9tZqmlXJK2xDAQNwfNc4PHoR%2BdZlWtQ/49LH/r1P/o2Sk73QB/Yetf8AQHuv/Adv8KP7D1r/AKA91/4Dt/hVWinqBa/sPWv%2BgPdf%2BA7f4Uf2HrX/AEB7r/wHb/CqtFGoGnquj6vJcq0elXLAW0IyIGPIiUEdPWq39h61/wBAe6/8B2/wo1j/AI%2B0/wCvWD/0UlVaSvYC1/Yetf8AQHuv/Adv8KP7D1r/AKA91/4Dt/hVWinqBa/sPWv%2BgPdf%2BA7f4VZ1jR9Xl1e6li0q5ZWuXKssDEEbjz0rMq1rn/IavP8Ar6k/9CNLW4B/Yetf9Ae6/wDAdv8ACj%2Bw9a/6A91/4Dt/hVWinqBa/sPWv%2BgPdf8AgO3%2BFWdH0fV4tXtZZdKuVVblCzNAwAG4cnisyrWh/wDIas/%2BvqP/ANCFJ3swD%2Bw9a/6A91/4Dt/hR/Yetf8AQHuv/Adv8Kq0U9QLX9h61/0B7r/wHb/Cj%2Bw9a/6A91/4Dt/hVWijUDT0rR9XjuWaTSrlQbaYZaBhyYmAHT1qt/Yetf8AQHuv/Adv8KNH/wCPt/8Ar1n/APRT1Vpa3Atf2HrX/QHuv/Adv8KP7D1r/oD3X/gO3%2BFVaKeoFr%2Bw9a/6A91/4Dt/hVmx0fV0trxX0q5Ba2AUGBuT5qHA49AfyrMq1p//AB6X3/XqP/RsdJ3sAf2HrX/QHuv/AAHb/Cj%2Bw9a/6A91/wCA7f4VVop6gWv7D1r/AKA91/4Dt/hXR%2BALG9svtf2yzli3eXt82MrnG7pmuSrqPht/y%2B/9s/8A2as6t%2BRjW51FFFFchYVzXxm8O%2BI/GHwf8V%2BEvB159n1fVPDV9aaVceZs8q5lt3SJt38OHZTntiulooA%2BLvBfgeP4reEviN4a1D4O%2BP8Aw94d8Rfs26L4Il0qLwdcWV7Jf2lvrP2u2tkuo0hLwxX1vFFK7C3nd9iSOsbY4W%2B8FfHnxL8Rpvjf4p1j4g6Po%2Bo%2BK5PK8aeCPg3d2mrW7p4bSyLxaFeQXs0VvOxEDzTwyNvsVKNFHJE4/QuigDgP2T/DviDwh%2By18NfCfizwbD4d1TS/AGjWmpeH7aVnj0y4jsYUktVZ3dmWNlKAl2JC8s3U2/Fsmlr4guBcWdw7/JuZLlVB%2BRexQ/zrtK4Pxn/yMtz/AMA/9AWtqPxClsVfO0X/AKB91/4GL/8AG6PO0X/oH3X/AIGL/wDG6q0V02ILXnaL/wBA%2B6/8DF/%2BN0edov8A0D7r/wADF/8AjdVaKLAaesS6QNXuhLY3Jb7S%2B4rdKATuPbYcVW87Rf8AoH3X/gYv/wAbo10ga1eEn/l6k/8AQjXx78Vvj18VP23/AIhaj%2BzD%2Bxf4nl0fwnpdx9m%2BJPxgs%2BUtx/Hp%2BmOOJbhhw0qnCA5BHDHgxuOpYGlG6cpy0jFfFJ9l2S3cnpFat7J/TcNcMYziXE1OWcaWHornrVp3VOjC9uaTWrlJ%2B7TpxvUqztCEW%2BaUO4/aH/b00Lw342l/Zz/ZT%2BHl38SPirIhV9Ksr9f7O0Ht5%2Bo3AQLEqk5MQYOeFJQspMn7L37Eth4C8YP%2B0b%2B1B4lm%2BIXxd1CPE3iCaULZaJGc/wCi6bA0eII1BK78Bmyxwm9lPoP7PX7NXwa/Zd8CR/D74M%2BD4dMtMh726Pz3V/Njma4mPzSueeTwM4UKAAO7rmoZdWr1Y4jHyUpLWMF8EH3V/il/fktPsxjue5mXFuXZXgKmUcL05UqNRctWvOyxGIXWMnFtUKD39hTfvae3qVWuVaejy6QdXtRFY3Ib7Sm0tdKQDuHUbBmq3naL/wBA%2B6/8DF/%2BN0aH/wAhqz/6%2Bo//AEIVz/jPx54H%2BHGhv4n%2BIfjPSdB0yJgsmo61qMVrAhPQGSVlUE/WvWk4wTlJ2S6t2PzyU4wi5SaSXV6L73ZHQedov/QPuv8AwMX/AON0edov/QPuv/Axf/jdcr4X%2BLPwr8bw/aPBfxM8P6vHtLeZpeswXC4xnOY3PGK4j4hft1fscfCu%2BXSvHX7Svg6zuzKI2tI9binmjJOPnSIs0Y92AA9awqYvB0aftKlWKj3ckl997HNVx2Co0/aVKsYx7uUUvvcrfmew%2Bdov/QPuv/Axf/jdWdKl0g3LeXY3IP2ablrpTx5TZ/g9KwdB8QaF4q0a28R%2BGNatNS0%2B9hEtnf2Fys0M8Z6OjoSrKfUHFauj/wDH2/8A16z/APop630lG6eh1RkpJNbB52i/9A%2B6/wDAxf8A43R52i/9A%2B6/8DF/%2BN18rftDfHj48fF79o%2B0/Y5/Yy8e2vhzVNDtBqnxK8eT6LDqMOhwsh%2Bz2Swy/JJPKSGKkghQCDw%2B1v8Awzx/wVCt/kh/4KKeHrkHjfcfCOzRh74WTFeVLNearONChOoouzlHltdbpc04t22bSte6vdO3iyzlyqzhh8PUqqD5XKPJy8y3S5pxb5dm0rXur3Tt9V%2Bdov8A0D7r/wADF/8AjdHnaL/0D7r/AMDF/wDjdfKh/Zh/4KXaj%2B71H/gp3aWkbffGn/BrTC2PQM8mR9aQ/wDBP349eJR5fxK/4KWfF27jf/XL4ZkttGLD2MSPto/tDHy%2BDBz%2Bcqcf/bpfkH9p5jL4MDP/ALelSj/7fL8j61sZdINtebLG5AFsNwN0pyPNTp8nHOKxfFXjT4c%2BBdCn8UeNtXh0fTLVd1zqGqaxDbwRD1aSRAq/ia%2BbLH/gj1%2BxlrsF3d/FOz8aeOLuO3DJfeK/HuoSyhvMQFswyxDOCe3epvD3/BIT/gnd4b1m31yz/Z1t7iW2ffHFqfiDUbyAn/ahnuHjcezKR7UvbZ7K9qEF61W7evLT1%2BTD6xxDJe7h6a9ardvVRpa/J/Mk1r/grP8Asktrtxo3wr8GfEj4jw2DbdU1X4e%2BGJdQs7JuweUogbPYpuB9agH/AAWA/Yktf3PiHT/iFpF12stS8G3qyn8Ft2H619E%2BHPDPhvwdosHhvwj4fsdK061TZa2GnWiQQwr6KiAKo9gKvULC55u8TC/b2ei9HzqT%2BYlhuIHq8VC/b2Wi9H7RSfzPmg/8Fgv2H4v317b%2BP7a1H376fwdfCJfqRbE/pWzon/BXv/gmlrOlSpbftF28JaeMmG%2Bsb23fIDj/AJa2i4xnB%2Bor36q2peC/B3iDSrifXvCemXz/AGmEb7ywjlONsndgaHh88jtXg/WnJflUH7DiGO2Ipv1pSX/pNQ8bh/4Kf/8ABOq4Ten7S%2BgAf7eqlT%2BRhFZ/ij/gq/8A8E6vDFktyvx3g1WaRtlvYaCJr64mfsqpDbtgn1OB716nN8C/glcv5lx8HfCsjf3n8PWxP6pV3w58L/hp4PvjqfhL4d6FpdyV2m407SIYHK%2Bm5FBxT9ln709pSXny1H%2BDnb8Q9nxG9Pa0V58lR/g5pfieBJ/wU%2B0%2B5H9vaZ/wT9/aIvPDh4j1q38IIWk/21gJDmPHO/68cUH/AIK4/swXX/Et0D4NfGPVtcH3vDGn%2BBp2v19Mo0apyePv9q%2BmqKX1LOFti0/WlH8LSX43F9SzxbYxP1ow09LTX43Pmi6/bA/bh%2BKumxWPwC/4J0axoVs80hh1/wCK/iqDT0iYhPv2cSGZuNp%2BVuPfPGeP%2BHv3gN18b6l/wp7x5HJ8194I0k3WmPEB0W0u5hgse5m4HYGvrGb/AJAtv/19Tf8AoMVVaFlVaavUxVVy6NOMUv8At2MWn/29cHk%2BIqe9VxlVy6NOMEv%2B3Ywaf/bzkfMtv/wUr8QaSn9j%2BPP%2BCav7RVtrkJ23lroHhqHVLJG/6Z3aFFlX/aCgU/8A4eMeO9S%2BXw1/wTN%2BPsrHoNU0y2sh%2Bbk4r6Xop/UM02%2BuP/wXTv8Af/wPkP8As/N9vrrt/wBeqV/vv%2Bi9D5c1H43f8FJPjw40L4M/sq6T8I7MjF14p%2BJfiKPUZlB6/Z7O1QHeBjBkyhJwcYq0v/BM%2B78d2NrqH7Vf7Z/xf8eXlzAXu9O0zxKuiaOcyOCqWdvG2wZB6OOvSvpmrWof8elj/wBep/8ARslS8loVXfFznWf96Vo/%2BAQ5I/fzC/sLD1nfGVJ1n/elaPyhDkj9/MfLz/8ABID9gXTgtz4D8CeMPCmoKuG1bw78Q7%2BK5c9dxaRnUnPOdtRv/wAE6/HHh4bfhl/wUN%2BPGnIv%2Bpi17xRBqyRjsAJIEyB6V9N0VX%2Br%2BTr4KKj/AIXKH/pMo/kP/VzJF8FBQ/wOUP8A0icfyPl5v2XP%2BCj3hxt3hH/gpdFqMK/cs/Enwq09/wA5o3Dn8q%2Btf2ZtK%2BLOifBDRNL%2BOXivS9c8UxC5Gqarotgba2nzcymIpESSuIjGp9WDEday67zwZ/yLVt/wP/0NquGXUMG%2BanKfa0pzkvuk3r8zrwWWYfBVXOnKburWlUnJfdJuz87mpRRRWp6YUUUUAFFFFABRRRQAUUUUAFFFFABRRRQAUUUUAFFFFABRRXln7YnxY%2BKvwS%2BDMnxG%2BE%2Bk6BdXNlrFimqHxC05jispbhIpDFHCVMspLqqhnRV3FyX2CKQA9Tor5%2B/bN/ax8UfAXxh4b%2BH3gzVdD0q61bw1rniG/wBa8Q%2BF9T1e1t7TTWsY2jeLTWEsCO9%2BjPePuit44JGdGLKK4j4r/wDBQX4j/CfRPEHx4vND8Nan8PdN8Q%2BI9CsdJsYZv7Skm0nQb7U2vDeecYXilm06eBYltwQksUvmnDJQB9cV8uf8FntJ/tn/AIJt/Eqz252afbz4/wCuVzFL/wCyV6d8BPib8W9U%2BIvi74KfHGfw5ea/4Z03SNUXVPCumT2dpNa6gtyqxmGeedxJHNZXIL%2BZh0MZ2ociuZ/4KgaFN4g/YE%2BK1nDbvJ5PgfU7lgqk7RDaSy5OOgGzrXDmkPaZZXj3hP8A9IkfW8AYn6nx5lNf%2BXFYd/8Alel/maHw11b%2B3vhzoGubt323RLSfOeu%2BFW/rW3XD/skLq/iP9lP4ZeIYtNuZFvvh9otwrrAxDB7GFs5x716F/Yetf9Ae6/8AAdv8K9bDVVUw1Od94xf3xT/U8HOsN9TzrFYe3wVasf8AwGpUj/7aVaKtf2HrX/QHuv8AwHb/AAo/sPWv%2BgPdf%2BA7f4VvddzzAm/5Atv/ANfU3/oMVVa05dH1c6RBENKudwuZSV8hsgFY8Hp7H8qrf2HrX/QHuv8AwHb/AApJruBVoq1/Yetf9Ae6/wDAdv8ACj%2Bw9a/6A91/4Dt/hTuu4FWrWof8elj/ANep/wDRslH9h61/0B7r/wAB2/wqzfaPq721mqaVckrbEMBA3B81zg8ehH50m1dagZlFWv7D1r/oD3X/AIDt/hR/Yetf9Ae6/wDAdv8ACnddwKtFWv7D1r/oD3X/AIDt/hR/Yetf9Ae6/wDAdv8ACi67gGsf8faf9esH/opKq1p6ro%2BryXKtHpVywFtCMiBjyIlBHT1qt/Yetf8AQHuv/Adv8KSatuBVoq1/Yetf9Ae6/wDAdv8ACj%2Bw9a/6A91/4Dt/hTuu4FWrWuf8hq8/6%2BpP/QjR/Yetf9Ae6/8AAdv8Ks6xo%2Bry6vdSxaVcsrXLlWWBiCNx56Urq%2B4GZRVr%2Bw9a/wCgPdf%2BA7f4Uf2HrX/QHuv/AAHb/CnddwKtWtD/AOQ1Z/8AX1H/AOhCj%2Bw9a/6A91/4Dt/hVnR9H1eLV7WWXSrlVW5QszQMABuHJ4pNqz1AzKKtf2HrX/QHuv8AwHb/AAo/sPWv%2BgPdf%2BA7f4U7ruBVoq1/Yetf9Ae6/wDAdv8ACj%2Bw9a/6A91/4Dt/hRddwDR/%2BPt/%2BvWf/wBFPVWtPStH1eO5ZpNKuVBtphloGHJiYAdPWq39h61/0B7r/wAB2/wpXV9wKtFWv7D1r/oD3X/gO3%2BFH9h61/0B7r/wHb/CnddwKtWtP/49L7/r1H/o2Oj%2Bw9a/6A91/wCA7f4VZsdH1dLa8V9KuQWtgFBgbk%2BahwOPQH8qTatuBmUVa/sPWv8AoD3X/gO3%2BFH9h61/0B7r/wAB2/wp3XcCrXUfDb/l9/7Z/wDs1YP9h61/0B7r/wAB2/wro/AFje2X2v7ZZyxbvL2%2BbGVzjd0zWdVrkY1udHRRRXIWFFFc18Zh4zPwf8Vj4cmT/hIf%2BEavv7B8r7/237O/kbffzNuKAOlor4L%2BC6fBjXPh38VvAP7O3xEsfC3hvXf2dNIt5tV0CN5JLXxL9l1n7fceRb/v5tTht2sXulUfauLcNhytZPhjQ/h545%2BBHxMisfhF8Jbrw5q3jzw94d%2BGkfhSxg1vw/o%2Br6pFYabdX2nSXFrHHJ5TXEc8hjiRPNhmjbdIsrMAfoVXB%2BM/%2BRluf%2BAf%2BgLXTeAfA3hb4YeBdF%2BGvgbSY9P0Tw9pNtpmj2ERO22tYIliijGecKiKo%2BlYPi2PS28QXBuLy4R/k3KlsrAfIvcuP5VtR%2BIUtjDoq15Oi/8AQQuv/ANf/jlHk6L/ANBC6/8AANf/AI5XTcgq0Va8nRf%2Bghdf%2BAa//HK%2BaP23P2gfGN/4q0z9ij9k/WZX%2BJfjG3Mmq6z9nHl%2BEdGJ2zahKVc7ZSDtiXgliCCCYw/JjcbSwOHdWab6JLeUnoopdW3%2Brdkmz3uG%2BHsbxPmscFh2oqzlOcnaFKnBXqVakukIR1fVvlhFSnOEXgftU/FLx5%2B2d8c9b/Ya/Zm8RzadoGm3bp8ZfiFYNxp9uXYHSbV%2BjXMoDK5H3BuBziQD6J%2BE3wl%2BHvwN%2BH2mfC34WeGLfSNE0m3EVnZ2y/m7Hq7scsztlmJJJJNVf2fP2afhB%2Byj8M7T4M/DX7XHa6fI7Xt7Nao9xqN2T%2B9up33gvI5GSegACgBVAHgn7U3xb8ZftP8Axif9gn9lXxhfaekCpJ8YfiBZQgf8I7YMf%2BPG3YOQ15MAVxkbBkf3zH5EG8upvGYpc%2BIqWjGK89VThfot5S0u1KctFFHZx1xll1DAU8myaMlgaUv3cdFUxNZqzr1Ve3PJJ8kW3DDUFyp39rOp678b/wBsX9l/9nGGRvjP8btA0W4jXcdMe8E16w/2baLdM31C4rxtP2s/2zP2pXW1/Yy/ZzHhbw3MePiR8WY3to5Y/wC/a2EZMsoIyVckoejBa9Z%2BB37Af7Fn7PDx3/wz%2BD9jHqcZ3HXdT04X1%2Bz9S/2i4ld1JPJ2lRnsK9g8nRf%2Bghdf%2BAa//HK6fq%2BbYv8Aj1VSj/LTu5fOpJaf9uwXqfnP1XOsb/vFZUo/y0ruXo6klp/25BeqPlrTvhJ/wVtn1CCC3/a4%2BGMEjzKsc6%2BA5GMbEjDAFsHHXB4p3gb/AIJi/C/UvEMXxI/a28d638avFiAlbrxlJ/xLLUn7y22nIfJjQ/3G3juAK%2BrNHi0gavamK%2BuS32lNoa1UAncOp3nFVvJ0X/oIXX/gGv8A8cqlkuAc06vNUtspylNJ9%2BV%2B7f1T8rFrIMvclKtzVbbKpOU4p9%2BWXu382n5WPnPxT/wSr/4J8eMJvP1b9l/QYW3bsaXPc2Izn0tpYxj26V2Xgb9ib9kP4baVLo3g39mvwXawzwNDcNJ4fgmlmjYYKPJKrO6kEghmI5NeteTov/QQuv8AwDX/AOOUeTov/QQuv/ANf/jldFPK8rpVOeGHgn3UI3/9JOink%2BUUajqQw9NSfVQhf/0k%2BStW/YJ%2BK37O3iCfx3/wTp%2BLkHhOO6nM2pfDLxc0134bvHPJaMKTLZsT1Mec8AFFGKo%2BLf23v2%2BPhv4Y1Dwh4r/4J567N41v7OSx8L634O1BNW0SW8lUxpPcFcPawoWLkSE52YJUEsPsPydF/wCghdf%2BAa//AByrOlRaQLlvLvrkn7NNw1qo48ps/wAfpXHPJ40oyWDqzop9I2cdd7Rkmov/AAtJPXl78csiVJNYGvOgn9mNpQV93GM01F/4Wknry9H4f%2Bxd%2By9a/st/CMaBrGrnWfF%2BvXj6v478SyndLqmqTfNK5Y8lFJKoOOBnG5mz67VrydF/6CF1/wCAa/8AxyjydF/6CF1/4Br/APHK9TDUKOEw8aNJWjFWX9dW9W3u223uethcLQwWGhQoq0Yqy/rq3q23q223qyrRVrydF/6CF1/4Br/8co8nRf8AoIXX/gGv/wAcre5uGn/8el9/16j/ANGx1VrTsYtIFtebL65INsNxNqowPNTp8/POKreTov8A0ELr/wAA1/8AjlJPVgVaKteTov8A0ELr/wAA1/8AjlHk6L/0ELr/AMA1/wDjlO4FWrUP/IFuP%2BvqH/0GWjydF/6CF1/4Br/8cqzFFpH9kTgX1zt%2B0xZP2Vcg7ZMcb/rSbAzKKteTov8A0ELr/wAA1/8AjlHk6L/0ELr/AMA1/wDjlO4FWirXk6L/ANBC6/8AANf/AI5R5Oi/9BC6/wDANf8A45RcAm/5Atv/ANfU3/oMVVa05YtI/siAG%2Budv2mXB%2ByrknbHnjf9KreTov8A0ELr/wAA1/8AjlJMCrRVrydF/wCghdf%2BAa//AByjydF/6CF1/wCAa/8AxyncCrVrUP8Aj0sf%2BvU/%2BjZKPJ0X/oIXX/gGv/xyrN9FpBtrPffXIAtjtItVOR5r9fn45zSb1QGZRVrydF/6CF1/4Br/APHKPJ0X/oIXX/gGv/xyncCrXeeDP%2BRatv8Agf8A6G1cb5Oi/wDQQuv/AADX/wCOV2vhIQL4ftxbyO6fPtZ0Ck/O3YE/zrGs/dKjuaNFFFcxQUUUUAFFFFABRRRQAUUUUAFFFFABRRRQAUUUUAFFFFABXA/tHfAWD9o/4cyfDLUfif4k8L2NxdQzXk/hhLAzXAikWRI2N7a3CqodEb5FViVA3YJB76igDyX4kfsmWXxU0SwtPFHxw8bDVrPSNR0ebxPZf2XDfXmmX6wC8spAtj5Cxyta27l44klRogUkQZBx73/gn18CNT1K6tNUutcuPCly15NH4Alu4f7It7q70p9JuLmPEIuQ72cs8ZVpzEGuJZBGJG3j3KigDg/gr8AtJ%2BDNzrGtS%2BPfEXivW9d%2BypqXiHxVPbPdyQW0XlW9v/o0EMYjjDSMPk3M80jMzMxNYn7cWlf29%2Byf4%2B0Pbu%2B2%2BENVgx677C4X%2Bter1x3x40n%2B3vhnqWh7c/bbaaDHrvhkX%2BtRUh7WnKHdNfemv1O/KsT9TzXD4j%2BSpTl/4DUhL/20%2Bef%2BCderf2z%2Bwt8KLzdnZ4HsIM/9cohF/wCyV7PXzl/wSS1b%2B2v%2BCdvwzvN2dmm3cGf%2BuV/cxf8AslfRtPJp%2B0yfDT704f8ApMT3vETDfU/EHN6H8uKxC/8AK9X/ADCiiivSPji1N/yBbf8A6%2Bpv/QYqq1am/wCQLb/9fU3/AKDFVWkgCiiimAVa1D/j0sf%2BvU/%2BjZKq1a1D/j0sf%2BvU/wDo2Sk90BVooopgFFFFAFrWP%2BPtP%2BvWD/0UlVatax/x9p/16wf%2BikqrSWwBRRRTAKta5/yGrz/r6k/9CNVata5/yGrz/r6k/wDQjS6gVaKKKYBVrQ/%2BQ1Z/9fUf/oQqrVrQ/wDkNWf/AF9R/wDoQpPZgVaKKKYBRRRQBa0f/j7f/r1n/wDRT1Vq1o//AB9v/wBes/8A6KeqtLqAUUUUwCrWn/8AHpff9eo/9Gx1Vq1p/wDx6X3/AF6j/wBGx0nsBVooopgFdR8Nv%2BX3/tn/AOzVy9dR8Nv%2BX3/tn/7NWdX%2BGxrc6iiiiuMsKKKKACiiigArg/Gf/Iy3P/AP/QFrvK4Pxn/yMtz/AMA/9AWtqHxky2Muiiiuok8t/bH/AGlNN/ZW%2BBOp/ExrD%2B0NZldNP8KaIqln1TVZyVt7dVXlstlmA52I2OcVg/sQfstah8AvBd946%2BKWqHWvih45mXU/iB4hmIZ3uWGVtIyOFghB2Kq4XgkAAqq%2BDeIvjx8KvjF%2B0hrH7Zfxt8XW9h8GfgVeTaT4FaY7k1/xIR/pF3DGMm4MYASIKDkhZFIw%2BOuTVP26/wBvWMNocd/8BPhZdgEX0wVvFmt257ov3dPVh3zvHBBkU4r5JZjRxWYuuouo43VKEddNVKq2/dipNOMZSfwxk4p8x9zxdm9PgLIafCmGi5Y/EKFbGRh8STtKhhpy0UIU4tVqyk0nXqQi4ydHlj0v7Uf7WnxI%2BJvxi1f9j79haO31HxnHcyR%2BMfHMy79M8GQs7BmdhkS3fBCxDOGHIJVlX079lj9mLwF%2Byh8Kbf4a%2BCnmvLiSZrzX9evvmu9Zv5OZbqdiSSzHoCTtUAZOMnX%2BB/7N3wj/AGVvBQ%2BEvwa8NCw0y0uZGmmlfzLm%2BmJw1xcSnmWVsDLHoAAAFAA7GvXwWBre1%2BtYtqVVqyS%2BGCf2Y929OaT1l5RSR%2BX4LAV/b/XMa1Ks00kvhpxe8Yd29Oab1lb7MUohRRRXrHrlrQ/%2BQ1Z/9fUf/oQqrVrQ/wDkNWf/AF9R/wDoQqrS6gFFFFMAq1o//H2//XrP/wCinqrVrR/%2BPt/%2BvWf/ANFPSewFWiiimAUUUUAWtP8A%2BPS%2B/wCvUf8Ao2OqtWtP/wCPS%2B/69R/6NjqrSW7AKKKKYBVqH/kC3H/X1D/6DLVWrUP/ACBbj/r6h/8AQZaTAq0UUUwCiiigC1N/yBbf/r6m/wDQYqq1am/5Atv/ANfU3/oMVVaSAKKKKYBVrUP%2BPSx/69T/AOjZKq1a1D/j0sf%2BvU/%2BjZKT3QFWiiimAV3ngz/kWrb/AIH/AOhtXB13ngz/AJFq2/4H/wChtWNf4Bx3NSiiiuUsKKKKACiiigAooooAKKKKACiiigAooooAKKKKACiiigArif2kPGXxG%2BHnwI8V%2BO/hPp%2Bi3Ov6Nos97Yx%2BIZJRZr5Sl3eQQ/PJtQMwjBTzGATzIwxkXtq5n4x/DVvjD8NNX%2BGbeOdZ8Ow61ZPaXep6AlobpYJFKyIv2uCeIblJUkxkgHKlTggA8p%2BOH7RXxg8J/B/4T%2BNvAtpYwXfjjWbSDxLfDwHqfiJNNtpNEvr5pIrDT547hybi3ghB3sFExyCcGmaj8avjjrGs/Ci7%2BE/xg%2BHniPSvH93aNNHF4DvkefToYftGpX8c39qn7Mnlr5UaPDKY57mBJC%2BWNdbpn7NWv6P8NdF%2BHem/tQ/EeCXw9LCdK1%2BFtHju0ijhkgEEka6cLW4iMcmCs0D4aON1Kugerfw2/Ze%2BHPwq1jwjrPhi91Zn8GeENQ8PaXHeXayLLDe3Nnc3VxMdm57iSWyiYsCq/M/y8jaAcN%2Bw1%2B0r8Q/j3oEb/GLxVosHiafw7Z6pceDrX4caroNxpqyl1ZhLqF1KNQhDqY/OgVUDIQTlgo9m8d2t1eaRHFaW0krC5BKxoWONrc8VyPwo/Zr0r4YeNZPiDqfxS8X%2BL9UTQ10XS7rxdfW876bp4l80wRvDBE8xZhGXmuGmmfyU3SEgk9V8Q/8AkCxf9fS/%2BgtV0/jQnsfGn/BHfStUi/Ye0rw1Bps7rofijXdPISFiFK6lO%2B3gf7dfUf8AYetf9Ae6/wDAdv8ACvlX/glV/oXwt%2BJnhfp/Yfxz8TWO3%2B7tmjfH/j9fUFcfD91kmHXaKX/gLlH/ANtPvvFfXxJzWp/PWlP/AMGRpVf/AHJctf2HrX/QHuv/AAHb/Cj%2Bw9a/6A91/wCA7f4VVor2NT8%2BNOXR9XOkQRDSrncLmUlfIbIBWPB6ex/Kq39h61/0B7r/AMB2/wAKJv8AkC2//X1N/wCgxVVpK4Fr%2Bw9a/wCgPdf%2BA7f4Uf2HrX/QHuv/AAHb/CqtFPUC1/Yetf8AQHuv/Adv8Ks32j6u9tZqmlXJK2xDAQNwfNc4PHoR%2BdZlWtQ/49LH/r1P/o2Sk73QB/Yetf8AQHuv/Adv8KP7D1r/AKA91/4Dt/hVWinqBa/sPWv%2BgPdf%2BA7f4Uf2HrX/AEB7r/wHb/CqtFGoGnquj6vJcq0elXLAW0IyIGPIiUEdPWq39h61/wBAe6/8B2/wo1j/AI%2B0/wCvWD/0UlVaSvYC1/Yetf8AQHuv/Adv8KP7D1r/AKA91/4Dt/hVWinqBa/sPWv%2BgPdf%2BA7f4VZ1jR9Xl1e6li0q5ZWuXKssDEEbjz0rMq1rn/IavP8Ar6k/9CNLW4B/Yetf9Ae6/wDAdv8ACj%2Bw9a/6A91/4Dt/hVWinqBa/sPWv%2BgPdf8AgO3%2BFWdH0fV4tXtZZdKuVVblCzNAwAG4cnisyrWh/wDIas/%2BvqP/ANCFJ3swD%2Bw9a/6A91/4Dt/hR/Yetf8AQHuv/Adv8Kq0U9QLX9h61/0B7r/wHb/Cj%2Bw9a/6A91/4Dt/hVWijUDT0rR9XjuWaTSrlQbaYZaBhyYmAHT1qt/Yetf8AQHuv/Adv8KNH/wCPt/8Ar1n/APRT1Vpa3Atf2HrX/QHuv/Adv8KP7D1r/oD3X/gO3%2BFVaKeoFr%2Bw9a/6A91/4Dt/hVmx0fV0trxX0q5Ba2AUGBuT5qHA49AfyrMq1p//AB6X3/XqP/RsdJ3sAf2HrX/QHuv/AAHb/Cj%2Bw9a/6A91/wCA7f4VVop6gWv7D1r/AKA91/4Dt/hXR%2BALG9svtf2yzli3eXt82MrnG7pmuSrqPht/y%2B/9s/8A2as6t%2BRjW51FFFFchYVzXxm8Q%2BJfCPwf8V%2BK/Bln9o1jTPDV9d6Vb%2BXv825jt3eJdv8AFl1UY75rpaKAPjfwBrXxE0zwD8UPBfwn/aB1G4eb9m7QfFGi%2BL/Gfi2W8h0zXb6DWla/N1dNILaFxaWs5RcQQiMusYVyDwT%2BOv2hvEPxOH7OPhTw341sPDh8dbf7M8UfGi6t9SSVfDH21tNm12ymvLiNC%2BL1Y4pZWI2BikLPGn2z4W%2BAfwL8DQzW/gr4LeEtHjuJp5rhNL8OWtuJZJkEczsI4xuaRFCsTyygA5AqqP2af2ch8Oh8Hx8APBP/AAiS3X2pfC3/AAitn/Zwnznzfs3l%2BVvzzu25z3oAd%2Bzd4%2B034q/s8eA/ido0%2Bqy2niLwbpmpWsuuvG168c9rHKrXDRAI0pDAuyAKWyV4Io8W2dvL4guJJNVt4ydmUdZMj5F9EI/Wuws7O00%2B0isLC1jgggjWOGGFAqRoowFUDgAAAADpXD%2BM/wDkZbn/AIB/6AtbUfiFLYq/2faf9By1/wC%2BJf8A4ivn3/gp/wDHyH9mf9jLxX4u0bxDD/b2tQDQvDUVuJBK97dgoGjyo%2BeOLzZh/wBcq90urq2sbWS9vZ0ihhjLyyyNhUUDJJJ6ADmvzm%2BDXxV1P/gqH/wU00/xrJYSj4V/B6zk1Xw1ZXCYW8umk8u3u5V6rJJKvnorAbY7ZRjLMW8rPsdKhQjhKMv31d8kPK/xTflCN362Xpvl08xjmMJZfTjOrSUq3vq9OEKXK3UqLZwjN04qD/i1JQpL4529O/4J%2Bf8ABMy68OeEPBXxR/a61iz1DWPDmlR/8IV8P3hk/s/wruxI00kYTbNfu5MkkhyFkJxnYhX7Z/s%2B0/6Dlr/3xL/8RVWiu7LcswuVYZUaC00u3q20krt9dFZdEtEkjhUZyxFXE1pyqVq05VKtSbvOpUk25TnLq2230SVoxUYpJaesWNq%2Br3TtrFspNy5KssuR8x4OExVb%2Bz7T/oOWv/fEv/xFGuf8hq8/6%2BpP/QjVWu9J2WpoWv7PtP8AoOWv/fEv/wARR/Z9p/0HLX/viX/4iqtFOz7gaej2Nqmr2rrrFsxFyhCqsuT8w45TFVv7PtP%2Bg5a/98S//EUaH/yGrP8A6%2Bo//QhVWlZ33Atf2faf9By1/wC%2BJf8A4ij%2Bz7T/AKDlr/3xL/8AEVVop2fcC1/Z9p/0HLX/AL4l/wDiKs6VY2q3LFdYtm/0aYYCy/8APJueU7dazKtaP/x9v/16z/8Aop6TTtuAf2faf9By1/74l/8AiKP7PtP%2Bg5a/98S//EVVop2fcC1/Z9p/0HLX/viX/wCIo/s%2B0/6Dlr/3xL/8RVWiiz7gadjY2q214BrFsc2wBIWX5f3qcn5Pw49arf2faf8AQctf%2B%2BJf/iKNP/49L7/r1H/o2OqtJJ3eoFr%2Bz7T/AKDlr/3xL/8AEUf2faf9By1/74l/%2BIqrRTs%2B4Fr%2Bz7T/AKDlr/3xL/8AEVZisbUaROn9sWxBuYiW2y4Hyycfcz/%2BqsyrUP8AyBbj/r6h/wDQZaTT7gH9n2n/AEHLX/viX/4ij%2Bz7T/oOWv8A3xL/APEVVop2fcC1/Z9p/wBBy1/74l/%2BIo/s%2B0/6Dlr/AN8S/wDxFVaKLPuBpy2NqdIgT%2B2LYAXMpDbZcH5Y%2BPuZ/wD11W/s%2B0/6Dlr/AN8S/wDxFE3/ACBbf/r6m/8AQYqq0kn3Atf2faf9By1/74l/%2BIo/s%2B0/6Dlr/wB8S/8AxFVaKdn3Atf2faf9By1/74l/%2BIqzfWNq1tZg6xbDFsQCVl%2Bb96/I%2BT8OfSsyrWof8elj/wBep/8ARslJp3WoB/Z9p/0HLX/viX/4ij%2Bz7T/oOWv/AHxL/wDEVVop2fcC1/Z9p/0HLX/viX/4iu18JRpF4ft4450kA34dAcH529QD%2BlcBXeeDP%2BRatv8Agf8A6G1Y1r8pUdzUooormKCiiigAooooAKKKKACiiigAooooAKKKKACiiigAooooAKKK85/ak%2BOniD9nb4Xj4kaD8MZvFAj1eztb6BNWjs47O3mmWNrmR3VmIXcAqRo7M7oDsTfIgB6NRXiv7Tf7Wd38Afif4M%2BGNlpngdZPF2j6vfrq3j74hHw9ZwGxn02EW6SCzufOmlbUQVTC4ELdc4HNXf8AwUCsdC8b/FTS/Fmi%2BCrPSPhPbanda1bw/EMy%2BIru1stLhv5bmHSTZKDEfO8sObgD5Sevy0AfR9YPxD/5AsX/AF9L/wCgtXK/A342eM/iD4n8R/Db4q/Daz8LeKfDdtp17dadpniA6pbSWd8kpgkWdre3O8SW9zE6eXgNDlWcMDXVfEP/AJAsX/X0v/oLVdP40J7Hxb/wTj/4lfj39o3wt08n4/avfbfT7TFA%2Bfx219QV8v8A7E//ABLP2yv2ofC/TyfGWi323/r508vn8dtfUFcmRaZbGPaVRfdUqf5n3vih73GVSr/z8pYWf/geDwj/AECiiivYPz8tTf8AIFt/%2Bvqb/wBBiqrVqb/kC2//AF9Tf%2BgxVVpIAooopgFWtQ/49LH/AK9T/wCjZKq1a1D/AI9LH/r1P/o2Sk90BVooopgFFFFAFrWP%2BPtP%2BvWD/wBFJVWrWsf8faf9esH/AKKSqtJbAFFFFMAq1rn/ACGrz/r6k/8AQjVWrWuf8hq8/wCvqT/0I0uoFWiiimAVa0P/AJDVn/19R/8AoQqrVrQ/%2BQ1Z/wDX1H/6EKT2YFWiiimAUUUUAWtH/wCPt/8Ar1n/APRT1Vq1o/8Ax9v/ANes/wD6KeqtLqAUUUUwCrWn/wDHpff9eo/9Gx1Vq1p//Hpff9eo/wDRsdJ7AVaKKKYBXUfDb/l9/wC2f/s1cvXUfDb/AJff%2B2f/ALNWdX%2BGxrc6iiiiuMsKKK5r4zeIfEvhH4P%2BK/Ffgyz%2B0axpnhq%2Bu9Kt/L3%2Bbcx27vEu3%2BLLqox3zQB0tFfG/gDWviJpngH4oeC/hP8AtA6jcPN%2BzdoPijRfF/jPxbLeQ6Zrt9BrStfm6umkFtC4tLWcouIIRGXWMK5B5HTI/j58QviDdfDDwknifTdG8K%2BOUm/4RDxp%2B0Hf6fqlykvhkyzWj6rp1xdzzrHPJb3YhEswVbhWYxqQkYB97VwfjP8A5GW5/wCAf%2BgLVv8AZ5%2BIegfFv4CeCfin4UsdRttM8R%2BE9P1LTrbV7tri6ignto5EWaV3dpZArANIXbectubOSzxbZ28viC4kk1W3jJ2ZR1kyPkX0Qj9a2o6SFLY%2BZ/8Agp38X5fgv%2Bw7498QadcbNR1XS/7E0oK2Hae9YW2VPZlSR5P%2B2dec/wDBFH4Hp8Nv2Ro/ihqNuw1Px/ffbg0wHmR6dbr9msoWI4IEcbSA/wDTavK/%2BC/Xjm/17/hW37L/AISuob%2B71W%2Bl1i7s4XdG8wstjZdVBOZbiY4/6Z1%2BgPwq%2BGGgfCj4YeHfhfomt2n2Pw7odpptsRHKMpBCsYP3O4XP4181QtmHGFWq9Y4emoL/ABz1l80tD3srcsFwnj8YtJYutTw0f%2BvWFisTWt5SxFfDxfd0ktbWWrRVr%2Bz7T/oOWv8A3xL/APEUf2faf9By1/74l/8AiK%2Buuj54Nc/5DV5/19Sf%2BhGqtaesWNq%2Br3TtrFspNy5KssuR8x4OExVb%2Bz7T/oOWv/fEv/xFJNWQFWirX9n2n/Qctf8AviX/AOIo/s%2B0/wCg5a/98S//ABFO6AND/wCQ1Z/9fUf/AKEKq1p6PY2qavauusWzEXKEKqy5PzDjlMVW/s%2B0/wCg5a/98S//ABFK6uBVoq1/Z9p/0HLX/viX/wCIo/s%2B0/6Dlr/3xL/8RTugKtWtH/4%2B3/69Z/8A0U9H9n2n/Qctf%2B%2BJf/iKs6VY2q3LFdYtm/0aYYCy/wDPJueU7daTasBmUVa/s%2B0/6Dlr/wB8S/8AxFH9n2n/AEHLX/viX/4indAVaKtf2faf9By1/wC%2BJf8A4ij%2Bz7T/AKDlr/3xL/8AEUXQBp//AB6X3/XqP/RsdVa07GxtVtrwDWLY5tgCQsvy/vU5Pyfhx61W/s%2B0/wCg5a/98S//ABFJNXYFWirX9n2n/Qctf%2B%2BJf/iKP7PtP%2Bg5a/8AfEv/AMRTugKtWof%2BQLcf9fUP/oMtH9n2n/Qctf8AviX/AOIqzFY2o0idP7YtiDcxEttlwPlk4%2B5n/wDVSbQGZRVr%2Bz7T/oOWv/fEv/xFH9n2n/Qctf8AviX/AOIp3QFWirX9n2n/AEHLX/viX/4ij%2Bz7T/oOWv8A3xL/APEUXQBN/wAgW3/6%2Bpv/AEGKqtactjanSIE/ti2AFzKQ22XB%2BWPj7mf/ANdVv7PtP%2Bg5a/8AfEv/AMRSTQFWirX9n2n/AEHLX/viX/4ij%2Bz7T/oOWv8A3xL/APEU7oCrVrUP%2BPSx/wCvU/8Ao2Sj%2Bz7T/oOWv/fEv/xFWb6xtWtrMHWLYYtiASsvzfvX5Hyfhz6Um1dAZlFWv7PtP%2Bg5a/8AfEv/AMRR/Z9p/wBBy1/74l/%2BIp3QFWu88Gf8i1bf8D/9DauN/s%2B0/wCg5a/98S//ABFdr4SjSLw/bxxzpIBvw6A4Pzt6gH9KxrNOJUdzRooormKCiiigAooooAKKKKACiiigAooooAKKKKACiiigAooooAK81/au%2BC/j79oH4R3Pwt8B/EbR/DLX93byX1/q/hiXVA0cMyTKkccd5a7GLxplizDbkbckEelUUAePfGD4D/Hj4ueCU8M3Xxt8I2dze6DqWjeIZW%2BGZuLe6tb2OJHeCOS/MtvMvlvjdNLCwkxJDIURhyPxG/4J/wAvxbsofht8Qfi3FdfD%2Bxhv103SLbwwkGsA3WgXGhus%2BpLNtnQW93O4/wBHWVm8oPK6oVb6PooA82%2BBnwR8ZfDzxN4j%2BJHxU%2BJVp4q8U%2BJbfTrK71LTtAOmW8dnYxyCCJYDcTnf5lxcyu/mYZpyFVFUCt74i%2BNtE0bUtN8GnxHHbazqcVxd2NgJ9s1xbW5iSeRQOSqNcW4b0Mq%2BtdXXx9/wVD1TVvg58WPgD%2B1fHfPHo3hjxxdeGvFEYOESw1uKKJriT/ZiktYm/wB4r1rmxeK%2BpUfbNXScb%2BSckm/knf5M4Mzxjy/Buva6Tjfyi5RjJ/8Abqlf5M5f9m7VdU0T/gp/%2B0lZx6lcI2taL4Pv2ImYF/KsJIcnnnrX1H/bmtf9Bi6/8CG/xr5T8Eyx%2BHv%2BCvXjfSrlxE3iH4Mabf2yvx5/kXrQsV/vYzzivqKjJUlQqx7Vaq/8nv8A%2B3H6Z4j3nmmBr/8APzA4F%2BtsP7P/ANxW%2BRa/tzWv%2Bgxdf%2BBDf40f25rX/QYuv/Ahv8aq0V7Fl2Pz405dY1caRBKNVudxuZQW89skBY8Dr7n86rf25rX/AEGLr/wIb/Gib/kC2/8A19Tf%2BgxVVpJLsBa/tzWv%2Bgxdf%2BBDf40f25rX/QYuv/Ahv8aq0U7LsBa/tzWv%2Bgxdf%2BBDf41ZvtY1dLazZNVuQWtiWInbk%2Ba4yefQD8qzKtah/wAelj/16n/0bJSaV1oAf25rX/QYuv8AwIb/ABo/tzWv%2Bgxdf%2BBDf41Vop2XYC1/bmtf9Bi6/wDAhv8AGj%2B3Na/6DF1/4EN/jVWiiy7Aaeq6xq8dyqx6rcqDbQnAnYcmJST19arf25rX/QYuv/Ahv8aNY/4%2B0/69YP8A0UlVaSStsBa/tzWv%2Bgxdf%2BBDf40f25rX/QYuv/Ahv8aq0U7LsBa/tzWv%2Bgxdf%2BBDf41Z1jWNXi1e6ii1W5VVuXCqs7AAbjx1rMq1rn/IavP%2BvqT/ANCNKyvsAf25rX/QYuv/AAIb/Gj%2B3Na/6DF1/wCBDf41Vop2XYC1/bmtf9Bi6/8AAhv8as6PrGry6vaxS6rcsrXKBladiCNw4PNZlWtD/wCQ1Z/9fUf/AKEKTSs9AD%2B3Na/6DF1/4EN/jR/bmtf9Bi6/8CG/xqrRTsuwFr%2B3Na/6DF1/4EN/jR/bmtf9Bi6/8CG/xqrRRZdgNPStY1eS5ZZNVuWAtpjhp2PIiYg9fWq39ua1/wBBi6/8CG/xo0f/AI%2B3/wCvWf8A9FPVWlZX2Atf25rX/QYuv/Ahv8aP7c1r/oMXX/gQ3%2BNVaKdl2Atf25rX/QYuv/Ahv8as2Osau9teM%2Bq3JK2wKkztwfNQZHPoT%2BdZlWtP/wCPS%2B/69R/6NjpNK2wB/bmtf9Bi6/8AAhv8aP7c1r/oMXX/AIEN/jVWinZdgLX9ua1/0GLr/wACG/xro/AF9e3v2v7ZeSy7fL2%2BbIWxnd0zXJV1Hw2/5ff%2B2f8A7NWdVLkY1udRRRRXIWFFFFAHJ%2BFvgH8C/A0M1v4K%2BC3hLR47iaea4TS/DlrbiWSZBHM7COMbmkRQrE8soAOQKoy/su/szz%2BAYPhRP%2Bzt4Ffwta3pvLXw0/hGyOnw3JDAzLb%2BV5ayEMwLhc/MeeTXdUUAR2lpa2FrFY2NtHDBDGscMMSBUjQDAVQOAABgAVw/jP8A5GW5/wCAf%2BgLXeV5l8YfEVp4Qh13xZf48jS9Oku5snHyRwbz%2BimtaUlFtvZIipJRg5PZH5dX7L%2B1/wD8FxLclIrzRvAuv%2BVG%2BdzWqaJbmRhjptfUbgfiO9fqFX5qf8EE/BWqeMvF3xC/aQ8Tqk92LO30eDUQvNxNdTSajeFj/eDSW4%2BgFfpXXzvB0ZVcuqY6a96vUlP5XtH7kj6POV9SyPJ8t608NCtP/r9jZSxlS/nGFXDU3/gt01KKKK%2BtPmy1rn/IavP%2BvqT/ANCNVata5/yGrz/r6k/9CNVaS2QBRRRTAtaH/wAhqz/6%2Bo//AEIVVq1of/Ias/8Ar6j/APQhVWl1AKKKKYBVrR/%2BPt/%2BvWf/ANFPVWrWj/8AH2//AF6z/wDop6T2Aq0UUUwCiiigC1p//Hpff9eo/wDRsdVataf/AMel9/16j/0bHVWkt2AUUUUwCrUP/IFuP%2BvqH/0GWqtWof8AkC3H/X1D/wCgy0mBVooopgFFFFAFqb/kC2//AF9Tf%2BgxVVq1N/yBbf8A6%2Bpv/QYqq0kAUUUUwCrWof8AHpY/9ep/9GyVVq1qH/HpY/8AXqf/AEbJSe6Aq0UUUwCu88Gf8i1bf8D/APQ2rg67zwZ/yLVt/wAD/wDQ2rGv8A47mpRRRXKWFFFFABRRRQAUUUUAFFFFABRRRQAUUUUAFFFFABRRRQAV5z%2B1J8dPEH7O3wvHxI0H4YzeKBHq9na30CatHZx2dvNMsbXMjurMQu4BUjR2Z3QHYm%2BRPRq81/au%2BC/j79oH4R3Pwt8B/EbR/DLX93byX1/q/hiXVA0cMyTKkccd5a7GLxplizDbkbckEAHP/tN/tZ3fwB%2BJ/gz4Y2WmeB1k8XaPq9%2BurePviEfD1nAbGfTYRbpILO586aVtRBVMLgQt1zgZ3x1/bC%2BIfwC8STReLfgJbNoVxHq0fh%2B/TxepvdRmsNCudWkma1S2YQWTfZZbYTtKZFlaLdAFkU1tfGD4D/Hj4ueCU8M3Xxt8I2dze6DqWjeIZW%2BGZuLe6tb2OJHeCOS/MtvMvlvjdNLCwkxJDIURhg%2BGf2QPil4Y%2BJeueLofjnod5p1/4dXw9oX9p%2BBZLrVdA0pLNIUtra5lv2tjuuEF1Mz2bfaHwsgKRxCMA7X9l3473/7Q3w/bx3dHwMUMqIi%2BBfHp1%2BKJjErtFPKbS28mZd4Bj2tgYORnFc//AMFDPgdD%2B0h%2ByH4y%2BDBgWS51nS5Bpm7ot7GrTWzfhNHGfpmt34EfAnxX8NfF3ij4lfETx5pWu%2BIPFFvptpdP4f8ADLaRYw21jFKkIW3a5uWMpM0paQyHKiNAqrGM9n47urqz0iOW0uZImNyAWjcqcbW44qKlCniacqNRXjJNP0aaf5mGKw9LF4adCorxmnF%2BjTT/ADPzE8X/ABmv/Ef7Nf7Pv/BT6xWV9W%2BHt7Fo/wASQqnzJNOnb%2Bz9R3r1JWdRIinp5273r9AbS7tb%2B1ivrK4SaGaNZIZY2DK6kZDAjqCDnNfHnwL8G6Ho/wAb/wBoz/gnH45vXi8OeN/M8W%2BGLNpceZZapEY73ylJ4ENwq7cdCCeMV6L/AMEwvjJ468Rfs3/8Kb%2BIOuXI8WfCfWLjwd4gjNw%2BW%2BxnbbyjJyUaDywG/iKMa8XJK9WlilTqPWomn/19o%2B5P5zgoT89WfZ5biKnFHhNhq9V82Kyqo8PV7uhVlJ05PraGIhUj5RxEejR9BUVa/tzWv%2Bgxdf8AgQ3%2BNH9ua1/0GLr/AMCG/wAa%2Bs1Pjwm/5Atv/wBfU3/oMVVa05dY1caRBKNVudxuZQW89skBY8Dr7n86rf25rX/QYuv/AAIb/GkrgVaKtf25rX/QYuv/AAIb/Gj%2B3Na/6DF1/wCBDf409QKtWtQ/49LH/r1P/o2Sj%2B3Na/6DF1/4EN/jVm%2B1jV0trNk1W5Ba2JYiduT5rjJ59APypO90BmUVa/tzWv8AoMXX/gQ3%2BNH9ua1/0GLr/wACG/xp6gVaKtf25rX/AEGLr/wIb/Gj%2B3Na/wCgxdf%2BBDf40agGsf8AH2n/AF6wf%2BikqrWnqusavHcqseq3Kg20JwJ2HJiUk9fWq39ua1/0GLr/AMCG/wAaSvYCrRVr%2B3Na/wCgxdf%2BBDf40f25rX/QYuv/AAIb/GnqBVq1rn/IavP%2BvqT/ANCNH9ua1/0GLr/wIb/GrOsaxq8Wr3UUWq3Kqty4VVnYADceOtLW4GZRVr%2B3Na/6DF1/4EN/jR/bmtf9Bi6/8CG/xp6gVataH/yGrP8A6%2Bo//QhR/bmtf9Bi6/8AAhv8as6PrGry6vaxS6rcsrXKBladiCNw4PNJ3swMyirX9ua1/wBBi6/8CG/xo/tzWv8AoMXX/gQ3%2BNPUCrRVr%2B3Na/6DF1/4EN/jR/bmtf8AQYuv/Ahv8aNQDR/%2BPt/%2BvWf/ANFPVWtPStY1eS5ZZNVuWAtpjhp2PIiYg9fWq39ua1/0GLr/AMCG/wAaWtwKtFWv7c1r/oMXX/gQ3%2BNH9ua1/wBBi6/8CG/xp6gVataf/wAel9/16j/0bHR/bmtf9Bi6/wDAhv8AGrNjrGrvbXjPqtyStsCpM7cHzUGRz6E/nSd7AZlFWv7c1r/oMXX/AIEN/jR/bmtf9Bi6/wDAhv8AGnqBVrqPht/y%2B/8AbP8A9mrB/tzWv%2Bgxdf8AgQ3%2BNdH4Avr29%2B1/bLyWXb5e3zZC2M7umazq35GNbnR0UUVyFhXPfF3xrc/DX4T%2BJ/iLZacLybQPDt7qUVoc/v2ggeUJxzyVxx610NMuba3vLeS0u4ElilQpLFIoZXUjBBB4II4xQB8t%2BCvip%2B1TpXhb4ieB9E8dt8QfGVr8CdI8ZeDptQ0qygxrV/Hq0Ys1S2jgja2M1hA0SyEyfPKrzMAGXzP4k/8ABQ/xR8Kfhf8AEL4cH4131l4nW4WHwJ40%2BLPh%2B00G7t4W0hby6mmtJbe1jklgdXSCNoFMslzaqyPHumb6m8Gfsd/s8%2BANE1Lw34b8FXgsNX0r%2BytTs7/xJqF5HcaeIHgSxYXE7/6LHHJIsUH%2Bqh82Qxqhdidbwb%2Bzr8JPAngPXPhvoOgXsmmeJjMfEMmq69e395qJlt0tmaa7uppLiQ%2BRHHEpMhKJGirtCqAAXvgf43t/iV8GfCnxAtvENrqy6z4ds7xtTspY3iuXkhVmdTH8hBYn7vHpXh//AAU68TTeA/2PPi74tW5ijP8AwhN5awt9oQOslxB9nQhc5zulGOK%2Bj9D0XTPDWiWfh3RbbybOwtY7a0h3s3lxIoVVyxJOAAMkk%2BtfCX/Bfbxl/wAIt%2Bw/4p0kS7W8Qa5pOnLg4LYmjuSPxFufwzXBm1f6rlGJq9qc/wAmv1POzdVpZXWhRV5yi4xXeU7QivnKcV8x/wDwRU%2BEyeBv%2BCe3hLVLdLeO48TXl/q96Huo1LO1w8MZwWB/1MEPWvq7%2Bx7v/nta/wDgdF/8VXkf7EPhL/hBf2Ovhf4XaLZJbeA9LNwuOkr20ckn/j7NXqVdeS4f6rk%2BHorTlhD/ANJTf4tn13Fkqb4nxsabvCFWcIv%2B5SfsYfLkowt5WLX9j3f/AD2tf/A6L/4qj%2Bx7v/nta/8AgdF/8VVWivT1PnjT1jSrqTV7qRZbYBrlyN15ED949QWyKrf2Pd/89rX/AMDov/iqNc/5DV5/19Sf%2BhGqtJXsgLX9j3f/AD2tf/A6L/4qj%2Bx7v/nta/8AgdF/8VVWinqBp6PpV1Hq9rI0tsQtyhO28iJ%2B8OwbJqt/Y93/AM9rX/wOi/8AiqND/wCQ1Z/9fUf/AKEKq0tbgWv7Hu/%2Be1r/AOB0X/xVH9j3f/Pa1/8AA6L/AOKqrRT1Atf2Pd/89rX/AMDov/iqs6VpV1HcszS23/HtMOLyI9YmHZqzKtaP/wAfb/8AXrP/AOinpO9gD%2Bx7v/nta/8AgdF/8VR/Y93/AM9rX/wOi/8Aiqq0U9QLX9j3f/Pa1/8AA6L/AOKo/se7/wCe1r/4HRf/ABVVaKNQNOx0q6W2vFMtt81sAMXkR/5aoefm46d6rf2Pd/8APa1/8Dov/iqNP/49L7/r1H/o2OqtJXuwLX9j3f8Az2tf/A6L/wCKo/se7/57Wv8A4HRf/FVVop6gWv7Hu/8Anta/%2BB0X/wAVVmLSroaRPH5ttk3MRH%2BmRY4WTvux3/zisyrUP/IFuP8Ar6h/9BlpO4B/Y93/AM9rX/wOi/8AiqP7Hu/%2Be1r/AOB0X/xVVaKeoFr%2Bx7v/AJ7Wv/gdF/8AFUf2Pd/89rX/AMDov/iqq0UagaculXR0iCPzbbIuZSf9Mixysffdjt/nNVv7Hu/%2Be1r/AOB0X/xVE3/IFt/%2Bvqb/ANBiqrSVwLX9j3f/AD2tf/A6L/4qj%2Bx7v/nta/8AgdF/8VVWinqBa/se7/57Wv8A4HRf/FVZvtKumtrNRLbfLbEHN5EP%2BWrnj5uevasyrWof8elj/wBep/8ARslJ3ugD%2Bx7v/nta/wDgdF/8VR/Y93/z2tf/AAOi/wDiqq0U9QLX9j3f/Pa1/wDA6L/4qu18JQvb%2BH7eGQoSN%2BSjhh99u4JBrgK7zwZ/yLVt/wAD/wDQ2rGtflKjualFFFcxQUUUUAFFFFABRRRQAUUUUAFFFFABRRRQAUUUUAFFFFABRRXnP7Unx08Qfs7fC8fEjQfhjN4oEer2drfQJq0dnHZ280yxtcyO6sxC7gFSNHZndAdib5EAPRqK8V/ab/azu/gD8T/BnwxstM8DrJ4u0fV79dW8ffEI%2BHrOA2M%2Bmwi3SQWdz500raiCqYXAhbrnA5v4i/8ABQa1%2BFF3rvi7xr8LhH4A0TWNa0U%2BJrPXTLezajpej3WqXS/YjAqrb7bK7gSXzy7SxKDEquHAB9HVg/EP/kCxf9fS/wDoLVyvwN%2BNnjP4g%2BJ/Efw2%2BKvw2s/C3inw3bade3WnaZ4gOqW0lnfJKYJFna3tzvElvcxOnl4DQ5VnDA11XxD/AOQLF/19L/6C1XT%2BNCex8pftzfsxeKfi9oWkfGn4E3sel/Fj4eTtqHgvU%2BFF4uP32mz8gNDOuVwxADHqFZ8/Ofgz9qGw%2BH/xHi/4KL%2BFNFntvA/jqW08NftBeFmhY3Xg7XbX9xFeugG7YpYI2QCVcNgvIFX9B6%2BT/wBrH9j/AOIfhfxn4h/aX/ZT0ay1e68S6f8AZvij8KNVwuneNbMIVZk/543gQsA/8ROepcS%2BHneXV4VPrmEvzJqUkld80U1GaX2na8KkVrOm9PfhG/Rw9nj4Nz2ePlQdfB4mDo4yhH4qlJ2/eU%2B1ak4xnB7uVOGjs1L6q07UbDV9Pg1bSr2K5tbqFZra5gkDxyxsAyurDhlIIII4INTV%2BdX/AATy/b88B/BC8H7OHxK1/UrbwG%2BrNaeBdc8SDy7rwzMxJbQdWB5geNgyxTN8jqpwVVSsf6KKyuodGBBGQQeCK9TKM2w2b4VVabXMtJRvflf6p7xdtV2aaXscR5AsmrU6%2BFqrEYLELnw%2BIj8Fan368tSDfJWpStOlVjKEor3ZTtzf8gW3/wCvqb/0GKqtWpv%2BQLb/APX1N/6DFVWvUR84FFFFMAq1qH/HpY/9ep/9GyVVq1qH/HpY/wDXqf8A0bJSe6Aq0UUUwCiiigC1rH/H2n/XrB/6KSqtWtY/4%2B0/69YP/RSVVpLYAooopgFWtc/5DV5/19Sf%2BhGqtWtc/wCQ1ef9fUn/AKEaXUCrRRRTAKtaH/yGrP8A6%2Bo//QhVWrWh/wDIas/%2BvqP/ANCFJ7MCrRRRTAKKKKALWj/8fb/9es//AKKeqtWtH/4%2B3/69Z/8A0U9VaXUAooopgFWtP/49L7/r1H/o2OqtWtP/AOPS%2B/69R/6NjpPYCrRRRTAK6j4bf8vv/bP/ANmrl66j4bf8vv8A2z/9mrOr/DY1udRRRRXGWFFFYnxK8b2Pwz%2BHOv8AxI1O1kntvD%2BiXepXEMRw0iQQtKyj3IQgUAbdFfNXh/8Aaq/aF8O%2BA/iFJ8QPBvh/xH4q8NfBuw8feH9M8I6ddW0d411FqONLZHmuJJZEm08L56bTKtwu2FWXDYuhftmfFzxl4A8aal4B%2BJXw/wDEbeAtRtZNV8Z%2BE/AOsa1aajY3NissS2el2N3JNLMtyzxSMt0yRpEzsAd6RAH1fX5c/wDByFr91feDPh18I7AhrjxD40a5hiz95oLRYQfwN4Pzr9H/AII%2BOdU%2BJ/wY8I/EvW7Cxtb3xD4YsNTvLXS9RS8toZZ7aOV0hnjJWeMM5CyKSrqAw4Nfmj/wWBFx8S/%2BCrP7O/wOW2adEvdPvpIQhP7q41KJZCB3%2BSxYfhXzvFcn/YVSkt6jhD/wKcV%2BVz0cipRxHFGWUpK8XisO2u8adT28v/JcMz760DRrTw7oVl4fsFxBY2kdvCMdERQo/QCrdWv7D1r/AKA91/4Dt/hR/Yetf9Ae6/8AAdv8K%2BwXLFWR5k5zqTc5O7bbb827v8WyrRVr%2Bw9a/wCgPdf%2BA7f4Uf2HrX/QHuv/AAHb/CnddyQ1z/kNXn/X1J/6Eaq1p6xo%2Bry6vdSxaVcsrXLlWWBiCNx56VW/sPWv%2BgPdf%2BA7f4Uk1ZagVaKtf2HrX/QHuv8AwHb/AAo/sPWv%2BgPdf%2BA7f4U7ruAaH/yGrP8A6%2Bo//QhVWtPR9H1eLV7WWXSrlVW5QszQMABuHJ4qt/Yetf8AQHuv/Adv8KV1fcCrRVr%2Bw9a/6A91/wCA7f4Uf2HrX/QHuv8AwHb/AAp3XcCrVrR/%2BPt/%2BvWf/wBFPR/Yetf9Ae6/8B2/wqzpWj6vHcs0mlXKg20wy0DDkxMAOnrSbVtwMyirX9h61/0B7r/wHb/Cj%2Bw9a/6A91/4Dt/hTuu4FWirX9h61/0B7r/wHb/Cj%2Bw9a/6A91/4Dt/hRddwDT/%2BPS%2B/69R/6NjqrWnY6Pq6W14r6VcgtbAKDA3J81DgcegP5VW/sPWv%2BgPdf%2BA7f4Uk1d6gVaKtf2HrX/QHuv8AwHb/AAo/sPWv%2BgPdf%2BA7f4U7ruBVq1D/AMgW4/6%2Bof8A0GWj%2Bw9a/wCgPdf%2BA7f4VZi0fVxpE8R0q53G5iIXyGyQFkyenuPzpNruBmUVa/sPWv8AoD3X/gO3%2BFH9h61/0B7r/wAB2/wp3XcCrRVr%2Bw9a/wCgPdf%2BA7f4Uf2HrX/QHuv/AAHb/Ci67gE3/IFt/wDr6m/9BiqrWnLo%2BrnSIIhpVzuFzKSvkNkArHg9PY/lVb%2Bw9a/6A91/4Dt/hSTXcCrRVr%2Bw9a/6A91/4Dt/hR/Yetf9Ae6/8B2/wp3XcCrVrUP%2BPSx/69T/AOjZKP7D1r/oD3X/AIDt/hVm%2B0fV3trNU0q5JW2IYCBuD5rnB49CPzpNq61AzKKtf2HrX/QHuv8AwHb/AAo/sPWv%2BgPdf%2BA7f4U7ruBVrvPBn/ItW3/A/wD0Nq43%2Bw9a/wCgPdf%2BA7f4V2vhKCe28P28NxC8brv3I6kEfO3Y1jWacSo7mjRRRXMUFFFFABRRRQAUUUUAFFFFABRRRQAUUUUAFFFFABRRRQAV5r%2B1d8F/H37QPwjufhb4D%2BI2j%2BGWv7u3kvr/AFfwxLqgaOGZJlSOOO8tdjF40yxZhtyNuSCPSqKAPHvjB8B/jx8XPBKeGbr42%2BEbO5vdB1LRvEMrfDM3FvdWt7HEjvBHJfmW3mXy3xumlhYSYkhkKIw4TXP%2BCaugeJtHvPhNr3xUuZ/hrNdapfW3hr%2BysajHe6holxpFw735mKyxeXeXc6x/Zw4nmDGQqgSvpyigDzb4GfBHxl8PPE3iP4kfFT4lWnirxT4lt9OsrvUtO0A6Zbx2djHIIIlgNxOd/mXFzK7%2BZhmnIVUVQK6/x3dXVnpEctpcyRMbkAtG5U42txxW1WD8Q/8AkCxf9fS/%2BgtV0/jQnscv/bmtf9Bi6/8AAhv8aP7c1r/oMXX/AIEN/jVWiuyy7EHg37U//BNn9lH9rzVLvxZ8TfBNxZ%2BJbyERz%2BKdAvWtb2QAADzPvRzkAKAZUcgKAMAV87eNdU/4Kj/8Et/DMNr8NPFKfGX4Q6SgW3XWLaY6noVqP%2BWb%2BQ/meUg4Eg81FVfuRDC1%2BgVFeHjcgweIqOvh26NZ/bho3/iXwyXdNX80wwWGyyhiL16c3SlLmnGnVnR5na3PeHND2iWinKlO60lzR0XyB8Iv%2BC3HgzxN8P7Hxn8bPg7448H6TNM4k8X6UG1vREbbHmOS6tRvikXOTE0e5Q3IFfSnwg/aq%2BD/AMftO/tP4MfHTSvEiBN8kWma0HmhH/TSLd5kZ9mUGvIvjB/wTd8C6jr0vxt/Ze8eap8IvHt7cS/bNT8MqG03VCAhC3unt%2B5mUlmJwFyWLNuNfM3xY%2BD9l4Ovvtv7c/8AwT7Yz2chaP41/s8l4WB/5%2Bbi1gKSRMByzyBlyflTgV5CxvEGVe7jFGpFfb5Wk/WUFLkf%2BOnb%2B%2BfWy4FxmbfveEMwp4y//MLieTDYyPlCaksNieylTdOctL0U3Y/Sv%2B3Na/6DF1/4EN/jR/bmtf8AQYuv/Ahv8a%2BB/gRovjD4pWUcX7Ff/BZjUdUt0XNv4d8ceHrLWNRRMfclF15VyuP73ljpxXpg8G/8FgvDg2aP8Zfgd4kCfdfxB4e1GzaT6i1JA/CvWoZy61NVFhptPrB06i%2BTjP8AReh8NmUs/wAjxcsJmuWYihVjvGUFdfJyhK3Z8tn0bPqz%2B3Na/wCgxdf%2BBDf41ZvtY1dLazZNVuQWtiWInbk%2Ba4yefQD8q%2BSv%2BFl/8FcPC3za7%2BzN8JfFIXqvhnxlc2Jb6fbFOPxqxefto/tyaLb2sfjn/glr4ngEduR5mg/EHTdSDjzHO5QiqepIx7Vq85wkX79OpH1pT/RSX4nD/b%2BEj/Ep1Y%2BtKp%2BcVNfifUn9ua1/0GLr/wACG/xo/tzWv%2Bgxdf8AgQ3%2BNfKn/DyHxvpnHif/AIJy/tBQkff/ALL8GR3oH0KTDNA/4KpfDq1/5D/7Kfx70n%2B9/aPwwlXb9dsjU/7dydb1LesZr86aD/WPJl8Va3rGovzpo%2Bq/7c1r/oMXX/gQ3%2BNH9ua1/wBBi6/8CG/xr5SP/BTf/hLD9l%2BCP7FPxr8WzHgXLeD/AOz7IN/da4nf5Tn/AGacP2sv%2BCjV2N%2Bm/wDBKqfY3KNd/GjSYmx2ypjyD7Uf23lkvgcp/wCGnUkvvULB/rDlcv4cpT84U6sl96p2/M%2BtNV1jV47lVj1W5UG2hOBOw5MSknr61W/tzWv%2Bgxdf%2BBDf418q6p/wUm8b/Cy7Ef7Y/wCxL8Qvh1EkEQk13SVj8Q6TCgjUB5Lq0A2ZXB2hGPUdq3dM/wCCq3/BPfVkWS1/ag0JA4BAure5gIz6iSJcfjTp53k8tJVoxfafuP7pqL/P1KhxDksnaVeMH2n%2B7l/4DNQf5%2Bp9G/25rX/QYuv/AAIb/Gj%2B3Na/6DF1/wCBDf41454e/bz/AGKfFO1dG/at%2BH7M33Y7jxVawOfosrqf0p/iX9un9jDwiGGvftU%2BAInX70MXiu1mkH/AI3Zv0rp/tDLOTm9tC3fnh/8AJHV/amWcnP8AWIW788P/AJM9g/tzWv8AoMXX/gQ3%2BNWdY1jV4tXuootVuVVblwqrOwAG48da%2BeoP%2BCl37BNzjy/2qvCIz/z01DZ/6EBXURftz/sX%2BKtWuJNB/av%2BHc/m3DtGh8Y2aOwLHBCtID%2BlTHMsrqStGvB/9vw/%2BSJhm%2BVVHaOIpv8A7fh/8keqf25rX/QYuv8AwIb/ABo/tzWv%2Bgxdf%2BBDf41ieHPF3hPxjZDUvCPifTtVtj0uNNvY50/76QkVo13R5JK6s18jvjKM1eLui1/bmtf9Bi6/8CG/xqzo%2BsavLq9rFLqtyytcoGVp2II3Dg81hajrmiaQu7VtYtbUetxcKn/oRFJoPjnwS%2BtWZTxhpRH2qPpqEf8AeH%2B1UylTSabX4CdSCdm196/zNX%2B3Na/6DF1/4EN/jR/bmtf9Bi6/8CG/xrIj8S%2BHJV3ReILJgBnK3aH%2BtYeufHL4KeGM/wDCS/GDwtp237327xBbQ4/77cUpVKEFeUkl5tL82TOvRpq8ppLzaX5tHZ/25rX/AEGLr/wIb/Gj%2B3Na/wCgxdf%2BBDf4147rH7eP7FGhP5Wo/tY/DwODgpD4vtJSD7hJCR%2BNFj%2B3j%2BxNqOBb/tb/AA4BPQTeM7KM/wDj8grm/tDLL29tC/8Ajh/8kcv9q5ZzW%2BsQv/jh/wDJntelaxq8lyyyarcsBbTHDTseRExB6%2BtVv7c1r/oMXX/gQ3%2BNcH4Y/an/AGYtVuWfS/2jfAdyDazYNv4vsnBzE2OktWIfjp8ErgZt/jH4VceqeIbY/wAnrWOJwknpOL/7ej/mbRxmEkvdqxf/AG9H/wCSO0/tzWv%2Bgxdf%2BBDf40f25rX/AEGLr/wIb/GuOk%2BNnwZijMsvxb8MKijLM2v24A/HfWBq37YX7JOguY9b/ai%2BHdow/gufGtgh/Iy5olisHBXlUivWUV%2BbQp43B01edWK9ZRX5yR6h/bmtf9Bi6/8AAhv8as2Osau9teM%2Bq3JK2wKkztwfNQZHPoT%2BdeJD9vX9iM3C2o/a3%2BHO5jgH/hMbPb%2BLeZgfnXZeFv2iv2ffEenXtz4e%2BOvg2/jNquJLLxPaSqf3sfdZDURxuAqaQqwfpKL/ACkTTzDAVXaFaD9Jxf5SZ2X9ua1/0GLr/wACG/xo/tzWv%2Bgxdf8AgQ3%2BNcifjH8IgNx%2BKnhsD1OuW/8A8XUa/G/4LNIIV%2BL3hcueijxBbZP4b629thv5o/fH/M1%2Bs4f%2BeP8A4Ev8zsv7c1r/AKDF1/4EN/jXR%2BAL69vftf2y8ll2%2BXt82QtjO7pmvObf4i/D67TzLTx1o0q/3o9UiYfo1dv8I9d0TWv7Q/sbWbS78ryvM%2By3CybM78Z2k4zg/lSqTpOHutfgaQqU5Oykn81/mdlRRRXMbBVXXNF0rxJot54d12xjurG/tZLa8tpRlZonUq6H2Kkg/WrVFAHkHw2/Y68OfDW21SOz%2BMfjvUbjVvC9v4cm1K/1O1S7h0q1injs7aKe2topIzbm6uZEmB89pJi0kkhC7a9r%2BxnZ2CS63pv7RXxGt/Ft1rDahqHjmK8037fe5s0sxbywGxNiYVhij2qLYFXQyAiR3dvZ6KAML4YfDnwr8H/ht4f%2BE3ga0kt9F8M6La6VpMMsxkdLa3iWKMM7cu21BljyTknrX5e/GO5f4rf8HGenaIyeba%2BD9KtxI/UIYtFkuVA%2Bk12ufev1fr8lv2K21D4mf8FvPj7461W2Pl6Bc69a28jdd8eo29gn4eXbSYr5viC9XE4DD/z14v5QTl%2Bh7PDMb8RQq9KNDG1vnDCTpxfqp4qLR%2BjNFfPXxF/4KrfsE/Cfx1q3w0%2BIHx4%2Bwa3od9JZ6pZf8IvqkvkTocMm%2BO1ZGwe6kj3rF/4fMf8ABNn/AKOP/wDLP1j/AOQ696efZHTm4yxVNNaNc8dGvme9Q8LvEvFUIVqOS4uUJpSjJYeq04tJppqFmmmmmtGmn1Pp%2Bivnr4df8FVv2Cfix460n4afD/48fb9b1y%2Bjs9Lsv%2BEX1SLz53OFTfJaqi5PdiB716D%2B1r8TPGvwb/Zr8afFD4dafYXWt6JoUtzp0WpztHAJBgb2Ko5O0EsF24YqFJUEsOzC47BY6DnhqkZpaNxadnvbQ%2BfzzhriPhmvChnGDq4ac1zRjVpypuSva6U0m1fS60voena5/wAhq8/6%2BpP/AEI1Vr568cftxfEPQ5PENzP8DtIa%2Bs/iBeeGtM0638U6hdy6jPawzTXcyRWWkz3HlJsjVSsLZ3O0nkqgL854Q/4KB%2BLPiFqVsnwp%2BD51iTxHawahpFt4h8Vx2ENpbt4b03WNpaGxldci9MeD5x8wZ3KjbY91JWR4tmfVFFeY3Xx%2B1O6/ZW1T9pvR/CsK2v8Awr8%2BJ9AsZLtpJZ4zpovFjmUIojbeTHhWcEANuBbauD%2Bzz4x%2BLVv8QfEvwn8cfEeXxlcWPgDw54lsdW1CwtLVhcai%2BqQy2wFpDGnkB9NV0LK0gEzBnfapqroR7tof/Ias/wDr6j/9CFVa%2BM/h7%2B0X%2B1hdXtp4D1rWPiB/ag0zwxqvjjUB8OYF1Tw0893cw6pDplotmwvoEeKFYn8m7%2BTzmWS5K/I7wV%2B0j8ftXlsviv8AETxF8RtO%2BHejwz6fqWsaJ4e0KNHurLxNqumzXOqRXcLXMe%2B2trKSWOzUeX5khCIB8s8yuOx9lUV8k%2BDv2ytR%2BPP7R3jLwJ8PP2m/COhaAngu9Ph2FXsbu50%2BWyvVhudUnRnDKzKZ2jikPlLDFDM6He6D2f8AZN8V%2BPvGvw5vvEfjHxDqOs6bceILk%2BDdd1nT4LW91TR8J5N1NFBFDGu%2BTzjGVij3weS5XLEmlJMLHp9WtH/4%2B3/69Z//AEU9VataP/x9v/16z/8Aop6HsIq0UUUwCiiigC1p/wDx6X3/AF6j/wBGx1Vq1p//AB6X3/XqP/RsdVaS3YBRRRTAKtQ/8gW4/wCvqH/0GWqtWof%2BQLcf9fUP/oMtJgVaKKKYBRRRQBam/wCQLb/9fU3/AKDFVWrU3/IFt/8Ar6m/9BiqrSQBRRRTAKtah/x6WP8A16n/ANGyVVq1qH/HpY/9ep/9GyUnugKtFFFMArvPBn/ItW3/AAP/ANDauDrvPBn/ACLVt/wP/wBDasa/wDjualFFFcpYUUUUAFFFFABRRRQAUUUUAFFFFABRRRQAUUUUAFFFFABXLfGr4saN8DfhZrfxZ8QeH9a1W00Oya4m07w9pxurycAgbY0yB1PLuyRooLu6IrMOpri/2ifDfxB8afBHxP4J%2BF%2Bk6Nea1rei3OnWsev6vLY2qCeJomkaWG3uHG0MWCiM7iMZXOQAO8T/AB08D%2BD/AIHH4/66t7Hov9iwajFbJAHu5/PVDBbRxqxElxI8kcSRqTvkdVBORXFx/tl6fdaZ8PPE2l/ALx3eaH8TP7GHh7WoH0fy421GETqssLaiLnMEHmTTeXFIEjglZS4TNZUn7NHxV%2BK3wV8GeBPip4sbwPrHgZbeXTZ/h/r9vqlveXMNnJao841PSdpVQ/mKvlEpJtYNujRqd8Af2XfiV8M7T4JaN488Z2Wt2nwt%2BF1zo987SZkm1uSPT4IrmFUt4kMUNtDfQI5CSbLkblZmdqAO0/Zx/aGP7SPguz%2BI2kfBvxZ4b0LVNNgvtE1LxLLpm3UYJQSrRpZ3txIh24JEqxn5h1OQOn%2BIf/IFi/6%2Bl/8AQWrxr9lD9lfxf8E/iVeeMb7wF8PvBemnwnBo8mi/Dae5Nrrl1HcNINTuIpoIvIkVP3aR7rh1WZ1adwiV7T47uZLXSI5IljJNyB%2B8iVx91uzAirp/GhPY4mirX9sXf/PG1/8AAGL/AOJo/ti7/wCeNr/4Axf/ABNdmpBVoq1/bF3/AM8bX/wBi/8AiaP7Yu/%2BeNr/AOAMX/xNGoBN/wAgW3/6%2Bpv/AEGKqtacuq3Q0iCTyrbJuZQf9Dixwsfbbjv/AJxVb%2B2Lv/nja/8AgDF/8TSVwPFfjh%2BwT%2ByP%2B0Ncyat8S/glpEmrO%2B/%2B3tLRrG/EgOQ5uLco7kHkbyw9q85X9h39qv4RjP7L/wDwUA8VQ2UP%2Bo8O/ErTYddtyvaITsFlhQdtoJA4r6w/ti7/AOeNr/4Axf8AxNH9sXf/ADxtf/AGL/4mvNrZPl9ao6ns%2BWb%2B1BuEvm4ON/mmfa5d4h8X5bhI4P6z7bDx2pV4wxFJeUYV41OT/uHKn%2BCt8oj4zf8ABUz4Ujy/iN%2ByT4J%2BI1rFxJqPw78Xmwl2f3/s98Czt6quOenFWbv/AIKqfD3wzbWtv8dP2ZvjJ8PnggKz3ev%2BA5ZLMnzHJaOaBn8xBnG4KOQa%2Bpf7Yu/%2BeNr/AOAMX/xNWb7VbpbazYRW3zWxJzZxH/lq44%2BXjp2rH%2Bz8xpNexxUrdpxjP8bQl%2BLO3/WzhPH/APIyyKlfrLDVa%2BGf/gDeIpfJRivI%2BePAX/BTH9gv4jlF8PftQ%2BF4Hk4WPW7ltMbPpi8WLn2r17w1488D%2BNIBc%2BDvGek6tGy7lk0zUYp1I9coxqj49%2BC/wU%2BKauPiX8EvBfiAyfefWfCNjct9d0kRIPuDmvGvFX/BJ7/gnz4tnN3efs36bZTbtyS6LqN5YbG9QLeZFH0xinfiCnuqU/nOD/KaFyeFOM1U8dhn2ccNiY/epYab%2BaPomivl8f8ABJj9nWw48J/Ev4q6AB9xdH%2BIt2gT6b91Kv8AwTQv9KO/wj%2B39%2B0TYY%2B7DcfENbmFfojwf1p/W85jvhE/SrH9YoP7A8PKv8PPZx/6%2BYGv%2BdOvNfmfVOsf8faf9esH/opK5bUfhV8L9YZn1b4b6BdFjljc6PA%2BfruU14VffsK/tOaRcKmg/wDBTT4mD9xEynVNKsLwjMakA70GQM4%2Bgpi/ssf8FC9NH/FP/wDBUm7THRdS%2BDejXefqWIqHjsbKNp4GT/7epP8AOSInwdwhX0jxBhn/AI6GMj/7gqHp/iH9jn9knxYGPiT9mH4f3jN1ln8H2Rf8G8vcPwNR%2BGv2L/2QvB5V/DX7L3w/tJF6TR%2BEbMyf99mMt%2BteaHwd/wAFePBPPhr9o/4O%2BNwnQeL/AAC%2BmtJ9fsIIBo/4X5/wVm8K/wDIe/Yu%2BGfivb97/hGPGsVjv%2Bn2yM4/Guf6zgIz5quBlF9/Yxl%2BMOY5v%2BIW4GvPnwWPy6s/%2Bv8ATpS%2B7EUKLXzke0T/ALPnwEuv%2BPr4IeEJP%2Bunhq1P846yPG37Ev7HHiLWLxdY/ZU%2BHcx%2B0yDzP%2BENslcDcejLECPzry//AIbl/bo07/kZP%2BCWevRY%2B9/ZnjPSLz8tsYzU2pf8FKfjBpeoTnxZ/wAE1fjXbETNvTS/ClpqDLyeMo43H%2BdOeY5FPSpT/wDAqMv1osqfhDxFWVoYfDVf8OJwE/8A3YQ3xH/wSR/YK1u%2B/tjR/gxJ4d1Af6u/8MeIL2xeP/dWObYP%2B%2Baof8Of/wBi66/5GDSPF%2BrZ%2B9/aXjzUW3fXbKtW/wDh65pNv/yF/wBh79oPT8dftnweQY/75kNA/wCCwv7NVh/yN/g3x/4ex9/%2B2vhfcJt%2BuyN64pS4MbvKFJesXFfjCK/A4JeA/E03eOR8/wDgVGf4UsRO/wD4CJp//BHz/gnLpp3x/s3W8rdS114j1OYk%2Bp33JFaWm/8ABI3/AIJ0XmqW1vcfsxaWUkuEV1Gq3wyCwB6T1Bpn/BZf/gnvqcn2c/tB2FrKDh4r/wAG3sBU%2B5e0A/Wur8Mf8FR/2D9V1O1aP9qbwTEhnTc1y8dvtG4ZOZI1x9a1hHgycbQWH/8AKZy1/BTibBq1XhutH1wdT9KUjjZP%2BCQf/BOWQ7m/Zoshz/Dr%2BpD%2BVzW3of8AwTD/AGAvD2PsH7LPheTb0%2B3QSXX/AKOds12elft4/sha3gaX%2B1R8L5WPSP8A4SfTA/8A3yXB/Suj0z9pL4La3j%2BxvjH4Ju89Psuq2Emf%2B%2BSa7aWC4bbvTpUX6Km/8zxK3h7VwDvVyeVN/wB7Czj/AOlUEcxo/wCxt%2ByJ4fTZov7Lfw7tuMFovBdiGP1PlZP40X37Gv7IOpgjUf2VfhvPnqZfA9gx/WGvRbDx9ouqjdpet6Pcg9Dbpbv/ACFXV1m5YbljtCPUWUX/AMTXoLBYBxsqMLf4Yf8AyJxzyrBUvcnh4rydOK/BwX5HjKf8E6v2E9ZunF9%2ByZ4EA%2BzzNi38PQwjIjYg/uwO4rFm/wCCY37Ak5y/7LHhYf7ls6/yYV9FaVqt1JcsrRW3/HtMeLOIdImPZarf2xd/88bX/wAAYv8A4msnlOVyeuHp/wDgEP8A5E5pZNk8t8NT/wDBcP8A5E%2Be0/4JffsARyCVf2WvDJKnIDRSkfkXwa39J/YI/Yj0VQtl%2ByV8O2x0N14QtJz%2BckbGvZf7Yu/%2BeNr/AOAMX/xNH9sXf/PG1/8AAGL/AOJqo5VlkHeOHpr/ALch/wDIjhk2T03eOGpr/tyH/wAieXN%2Bxz%2ByI1s1m37LHw4MTjDRf8IPYbSPp5Nc9e/8E0P2B/EQu7vUf2UvB6PHbhk%2Bx6b9mUHzEH3YSo6E9u9e5f2xd/8APG1/8AYv/ias2Oq3TW14xitvltgRiziH/LVBz8vPXvTqZbl1SNpUIP8A7cj/APIlTyrKqqtPD036wh/8ifN4/wCCW/8AwT9B3D9lzw5%2BIm/%2BOVIf%2BCYP7ATRmI/ss%2BGMHuIZM/nvzX0H/bF3/wA8bX/wBi/%2BJo/ti7/542v/AIAxf/E1n/Y%2BU/8AQNT/APAI/wDyJl/YeSf9AtP/AMFw/wDkT5tuP%2BCT3/BPG5fzJP2YtHB/6Z394g/JZgK9q/Y4/ZK/Z2/Zb/4SP/hQfwxtfDn9u/Y/7W%2BzXU8n2jyfP8rPmyNjb5snTH3uc8V1H9sXf/PG1/8AAGL/AOJro/AF5Ld/a/NSIbfLx5UCJ/e67QM0lleW4d%2B0pUIRkuqjFP70kzTD5PlOFrKrRw8IyWzUIprpukmdHRRRWh6gVm%2BM/FmjeAfB%2BreOvEczR6doumT39/Ii7isMMbSOQO5CqeK0qzfGXhPRvHvhDVfA3iOBpdO1rTZ7C/iVtpeGaNo3APYlWPNAHiGj/twaxpHw38e%2BOPjF8Gv7BvfBHwvtfH39j6R4hGom80m4hvpI4zI8EAiulbT50kjw8aFo2ErhiVtab%2B1R8Y9at9f8MaR8DvC83i3wnq8MPiiBviUE0TTbGXTRfxXr35sfOIZSItgtMh8sSIsSmT4X/so/FDwRJrOq%2BJvj5Y6tq%2Bq%2BA7HwjDq1v4LWBrWwsY7v7JMIpbmeKS5869nlmZ0MU2I0EMSqd3En/gnP4psfA9x4T8M/E3wJpKa34rt9V8YaJpvwqe10DVrK2tPIt9LGn2%2BpxtHbeb/pUqtPIJ5GdHHku0JAPoP4LfEuz%2BNHwc8J/GLTtEvNMt/Fnhqw1mDTtQULcWqXVuk6xSgdHUOFb3Br4U/YW%2BEkHgb/AIKGftX6xHrA1GP/AITO2%2BzXYtvK2tfS3epTwY3NnynuUi3Z%2Bby92FztH6CeHbbXbPQLK08T6jZXeoxWyLfXWnWDWtvLKFAZo4XllaJCckIZHIHG5utfG3/BPyLXIPG37RPja5vJoptW/aL8SW8bRyMu63tJI7eL642uPwry8VSjVzbB6axlUl91O3/tyPtuGqOGpcMZ5jpr95GjRpQfVfWMVBTt6ww9n5M%2BhqK8D%2BIv/BSPWvh3471bwN/wxv8AtIa7/ZN9Jbf2x4c%2BHjXVhebDjzYJftC%2BZGeobAyO1Yv/AA9W1r/owz9qr/w1zf8AyVXdPPMshNxlU1Wnw1P/AJW/zPy2fEGT05uEquq0fu1OnpSf5s%2BlqyPiB4D8KfFHwRq3w58daWb7RtcsJbLU7QXEkRlhkUqyiSNldDg8MjBlOCCCAa8a%2BHX/AAUj1r4ieO9J8Df8Mb/tIaF/a19Hbf2x4j%2BHjWthZ7zjzZ5ftDeXGOpbBwO1eqftCfFf4i/C34L%2BIfib4Mdr678O2P8Aac9jcNLJ9otIGWW6jjVHU%2Bc1ukwj5IEhQlWAKnrw2Nw%2BNg5UZcyWj0kv/Sox/Jnbg8dhMfByw8uZJ2eklr/29GP5P1MjxN%2ByR8Bb2c6Tc%2BFNQZbLxHeapFcDxPqIuXurhDFcNLOLjzZklT5ZI5GaOT%2BJWPNUfh1%2Bx1%2Bzp8KHspPAngCWzbToDDZNLrl9cGGI2MFhsHnTP8otbaCJV6KsY24OSfGfjl/wUo%2BN3hW21/4g/DS00rU/D%2Bl3esarDBHZM/m6Baagmnw3D3MupW0cf2i4hvWikhjuWaN4MW7bS0mT4E/a9%2BP%2BjfEC9%2BG%2Bh%2BLludQ1rx7rGl6brfii%2B1C%2Bh09H8aeILZA9uLuNHjjtrJIYkUxtkxJ5mxVQbKSstDtsz6p8GfC7wR4A8HQ/D7wzpMiaJb6bBp8GmXl9PdQxWsNultHCqzu%2B1PKjUED7x3M25mZjj/DX9nP4SfCG2a2%2BH%2Bi6jZh5rd3lm8R39zK6QRNFBbtJPO7m2jR2CWxPkpuJVAea5r9hf4hfF3xr8Ej4o8dfEs6xJJ4w8VwPNHNcSEvD4l1SJPKmkmb/AEZYUijii2/IkagMRhRwH7KXxP8AiZqPxR8CatqXxU8T6ndePPBfizVPGel6l4jubm2sr6y1jT4YVggkkaOyEBubm18uFYw4UbwzR7hV3poI9W8I/sbfs8aPYP4P0vwfqMFpf3mm7p4vFWpC7tUspS9nFa3X2jz7OKBncxRQPHHH5jhVAdsw3P7H37PF1HpNu/ga4jg0ezt7SGzt9fvooLuGC4a5iS8iScJqAWd5Jf8ASRKS8sjHJkcn5l%2BL3xo/aO%2BG/iLxBZxfEjxab3X28ZxS6/aePxd6bNBHqsMWmraWyXROmPaia3sLiUR27RSSyMTO4Ei/Q37Ffiz4nrpfxB8GePvEmp/2h4Z%2BIUmn/wBmS%2BML3XYtMifS9Oukgh1K8C3N4hFz5xaZEaN55IQuyFGZJ3lawdDrPij%2Bz38JPjNFqMPxF8NT3o1bQW0XUGt9XurVpbBpknaDdbyoVBkRSSCGIypO0kHZ8BfD/Qfhvor6D4dv9buIJLhp2fXvEt9qswYqqkCa9mlkVcKMIGCg5IALEnpf7c1r/oMXX/gQ3%2BNH9ua1/wBBi6/8CG/xq9RFWrWj/wDH2/8A16z/APop6P7c1r/oMXX/AIEN/jVnStY1eS5ZZNVuWAtpjhp2PIiYg9fWk72AzKKtf25rX/QYuv8AwIb/ABo/tzWv%2Bgxdf%2BBDf409QKtFWv7c1r/oMXX/AIEN/jR/bmtf9Bi6/wDAhv8AGjUA0/8A49L7/r1H/o2OqtadjrGrvbXjPqtyStsCpM7cHzUGRz6E/nVb%2B3Na/wCgxdf%2BBDf40le7Aq0Va/tzWv8AoMXX/gQ3%2BNH9ua1/0GLr/wACG/xp6gVatQ/8gW4/6%2Bof/QZaP7c1r/oMXX/gQ3%2BNWYtY1c6RPKdVudwuYgG89sgFZMjr7D8qTuBmUVa/tzWv%2Bgxdf%2BBDf40f25rX/QYuv/Ahv8aeoFWirX9ua1/0GLr/AMCG/wAaP7c1r/oMXX/gQ3%2BNGoBN/wAgW3/6%2Bpv/AEGKqtacusauNIglGq3O43MoLee2SAseB19z%2BdVv7c1r/oMXX/gQ3%2BNJXAq0Va/tzWv%2Bgxdf%2BBDf40f25rX/AEGLr/wIb/GnqBVq1qH/AB6WP/Xqf/RslH9ua1/0GLr/AMCG/wAas32saultZsmq3ILWxLETtyfNcZPPoB%2BVJ3ugMyirX9ua1/0GLr/wIb/Gj%2B3Na/6DF1/4EN/jT1Aq13ngz/kWrb/gf/obVxv9ua1/0GLr/wACG/xrtfCU89z4ft5riZ5Hbfud2JJ%2Bdu5rGtflKjuaNFFFcxQUUUUAFFFFABRRRQAUUUUAFFFFABRRRQAUUUUAFFFFABRRRQAUUUUAFYPxD/5AsX/X0v8A6C1b1UPEWif29ZLZ/avK2yh92zdnAIx1HrVQaU02J7Hn1FdR/wAK2/6jX/kt/wDZUf8ACtv%2Bo1/5Lf8A2VdXtafcmzOXorqP%2BFbf9Rr/AMlv/sqP%2BFbf9Rr/AMlv/sqPa0%2B4WZgzf8gW3/6%2Bpv8A0GKqtda/gDfZR2f9rf6uV33eR13BRj73%2Bz%2BtRf8ACtv%2Bo1/5Lf8A2VJVYdwszl6K6j/hW3/Ua/8AJb/7Kj/hW3/Ua/8AJb/7Kn7Wn3CzOXq1qH/HpY/9ep/9GyVvf8K2/wCo1/5Lf/ZVLceAPPigi/tbHkxFM%2BR1%2Bdmz97j72PwpOrC%2B4WZyVFdR/wAK2/6jX/kt/wDZUf8ACtv%2Bo1/5Lf8A2VP2tPuFmcvRXUf8K2/6jX/kt/8AZUf8K2/6jX/kt/8AZUe1p9wszB1j/j7T/r1g/wDRSVVrrbzwB9rlEv8Aa23ESJjyM/dQLn73tmov%2BFbf9Rr/AMlv/sqSqwtuFmcvRXUf8K2/6jX/AJLf/ZUf8K2/6jX/AJLf/ZU/a0%2B4WZy9Wtc/5DV5/wBfUn/oRre/4Vt/1Gv/ACW/%2ByqW%2B8Afbb2a8/tbb5srPt8jOMnOPvUvawvuFmclRXUf8K2/6jX/AJLf/ZUf8K2/6jX/AJLf/ZU/a0%2B4WZxup6HoutR%2BTrOj2t2mPuXVusg/JgaxYf2fvgLr%2BsWseu/BLwheq9ygdbvw1ayBgWGQd0ZzXpn/AArb/qNf%2BS3/ANlUtj4A%2BxXsN5/a27ypVfb5GM4OcferKosNVXvxT9Un%2BaZ14fH5hg/4FacP8M5x/wDSZRPAdU/Yh/Y01oltS/ZQ%2BHMjHrIPBdirH/gSxA/rXOan/wAEzf2CNXz9r/ZY8KJnr9ls2g/9FstfTn/Ctv8AqNf%2BS3/2VH/Ctv8AqNf%2BS3/2Vcs8BlFT4qEH/wBuR/8AkT3cPxtxthP4OaYmPpiK/wD8uZ8i3/8AwSG/4Jz6kc3H7NNkuf8An317UYv/AEC5FUj/AMEav%2BCcIO6D9nqSJv70XjDVwR/5N19j/wDCtv8AqNf%2BS3/2VH/Ctv8AqNf%2BS3/2Vc7yXh6Tu8NT/wDAI/5Hqw8VPFCmrRzzFpf9hNb/AOTZ8f6b/wAEdv2GPtDR6d4M8S2IEErD7H461NcERsR1nPcVX/4dJfsww/8AIM8XfEqy9Ba/EK9GPzY19m2fgD7JKZf7W3ZidMeRj7yFc/e981F/wrb/AKjX/kt/9lS/sTIL6YeC9I2/Jo0/4it4mv4s3xEv8VTm/wDSoSPjj/h1L8GYv%2BPD4%2BfGi19Bb/Eq4GPzU0f8OsvAScWv7Wvx%2Bg9ovihKP5xGvsf/AIVt/wBRr/yW/wDsqP8AhW3/AFGv/Jb/AOyo/sXIv%2BfK%2B%2Bf6TF/xFTxF65jN%2BsaL/PDM%2BN/%2BHXfh5f8AUftt/tGxf9c/im3/AMYqxZ/8Evrdre6eH/goH%2B09CEtw22L4sYDfvEGD/o3I5z9QK%2BwP%2BFbf9Rr/AMlv/sqlt/AHkRTxf2tnzogmfI6fOrZ%2B9z93H40PJck6Uv8Ayap/8sD/AIin4g9cc360sK/zwbPjI/8ABMiVeYv%2BChX7ToP%2B18Vdw/L7PR/w7S1n7n/DxD9pLZ3H/CyFz%2Bf2evsj/hW3/Ua/8lv/ALKj/hW3/Ua/8lv/ALKj%2Bxsl/wCff/k1T/5aH/EUuPuuMX/gjCf/ADEfG/8Aw7A0ufjVv27P2k75T95Ln4qEqfwEAr3j9ib9lTwj%2BzL/AMJM/hn4i%2BN/EMmufYvtUvjPxNJqLReT5%2B3yt4Hl581t2PvbV9K9Q/4Vt/1Gv/Jb/wCyrU8N%2BG/%2BEe87/TfO87b/AMs9uMZ9z61dPLMqw81Uo07SWzvJ/wDpU5HBmnH3GWdYGeCxuMc6M7c0eSjFOzTV/Z4ek9Gk91t12NSiiiuk%2BRCiiigAooooAK8Z8LfB/wAKfBa617QvCUt1JHrPirU/EF9JeSKztd6hdSXcwG1VARXlKIMZCKoJY5Y%2BzVg614J/tfU5dR/tPy/M2/J5OcYUDruHpVU40/aqclqr2fa9r/fY3jisTTw1TDwm1Cbi5LpLkbcb/wCFybXm2cbRXUf8K2/6jX/kt/8AZUf8K2/6jX/kt/8AZV1e1p9zlszl6ZPBBdQPbXMKSRyIVkjkUFWUjBBB6gjtXV/8K2/6jX/kt/8AZUf8K2/6jX/kt/8AZUe1p9wszy3xX%2Bzf%2BzvqptfDeqfAXwXc6doFncaVoVhceFrR4dOsHXyntYEMe2GFowEMaAKVABGOKin/AGffgLc6Lc%2BGrn4I%2BEJNOvI9l3p7%2BGrUwTr9pe72uhj2sPtMkk%2BCP9a7P94k165feAPtt7Nef2tt82Vn2%2BRnGTnH3qi/4Vt/1Gv/ACW/%2BypKpTsFmee%2BE/hx8PPAMK2/gXwHouixpG8aJpOlw2wVHmkndQI1GA00sspHd5HY8sSall8Gvg/pup6xrWnfCnw1b3niGVJfEF3DoVukupur71a4YJmYhiWBckgnPWvTf%2BFbf9Rr/wAlv/sqP%2BFbf9Rr/wAlv/sqftafcLM870L4K/BtfF2pa4vwl8Mi98VFLfxPeDQbfzdXhOFMd0%2BzNwhU42yFhjipvBXgLwL8NdAj8KfDnwXpOgaXE7vFpuiadFa26MxyzCOJVUEkkk45Neh2PgD7Few3n9rbvKlV9vkYzg5x96ov%2BFbf9Rr/AMlv/sqXtKdwszl6K6j/AIVt/wBRr/yW/wDsqP8AhW3/AFGv/Jb/AOyp%2B1p9wszl6taP/wAfb/8AXrP/AOinre/4Vt/1Gv8AyW/%2ByqWz8AfZJTL/AGtuzE6Y8jH3kK5%2B975pOrC24WZyVFdR/wAK2/6jX/kt/wDZUf8ACtv%2Bo1/5Lf8A2VP2tPuFmcvRXUf8K2/6jX/kt/8AZUf8K2/6jX/kt/8AZUe1p9wszB0//j0vv%2BvUf%2BjY6q11tv4A8iKeL%2B1s%2BdEEz5HT51bP3ufu4/Gov%2BFbf9Rr/wAlv/sqSqwvuFmcvRXUf8K2/wCo1/5Lf/ZUf8K2/wCo1/5Lf/ZU/a0%2B4WZy9Wof%2BQLcf9fUP/oMtb3/AArb/qNf%2BS3/ANlUqeANllJZ/wBrf6yVH3eR02hhj73%2B1%2BlJ1YdwszkqK6j/AIVt/wBRr/yW/wDsqP8AhW3/AFGv/Jb/AOyp%2B1p9wszl6K6j/hW3/Ua/8lv/ALKj/hW3/Ua/8lv/ALKj2tPuFmYM3/IFt/8Ar6m/9BiqrXWv4A32Udn/AGt/q5Xfd5HXcFGPvf7P61F/wrb/AKjX/kt/9lSVWHcLM5eiuo/4Vt/1Gv8AyW/%2Byo/4Vt/1Gv8AyW/%2Byp%2B1p9wszl6tah/x6WP/AF6n/wBGyVvf8K2/6jX/AJLf/ZVLceAPPigi/tbHkxFM%2BR1%2Bdmz97j72PwpOrC%2B4WZyVFdR/wrb/AKjX/kt/9lR/wrb/AKjX/kt/9lT9rT7hZnL13ngz/kWrb/gf/obVl/8ACtv%2Bo1/5Lf8A2Vb2i6b/AGRpkWned5nl7vn24zliemT61nVnGUbIaTTLVFFFc5QUUUUAFFFFABRRRQAUUUUAFFFFABRRRQAUUUUAFFFFABRRRQAUUUUAFfPfxY/aj%2BKng74s67H4bsfDx8H%2BC/E/hPQfEdpfWE76jfz61d28DTW86zrHbpbpeW0m1oZTMVlTMfytX0JXlvjv9kzwH4/%2BKY%2BJ2peKfEFrFcX2j32t%2BGrK4t107WLvSrj7Rp9xcB4WmDwyiNv3UsayeREsgkVAKAPUqKKKACiiigD5/wDhz%2B0r8Q9d/aq8RfCP4geKtF0TSrbxZc6T4T0af4carFPraRaZBebotZkuvsUkwLXDmBIjJ5Vs5wArOPoCvN7r9mvStU%2BMGn/FjxD8UvF%2BqW%2Bja5LrOheE9Qv7eTTNN1CSyksmni/cC5x5M9wFhedoUadmWMEIV9IoAKKKKAOJ/aQ8ZfEb4efAjxX47%2BE%2Bn6Lc6/o2iz3tjH4hklFmvlKXd5BD88m1AzCMFPMYBPMjDGRfFfDn7ZPxk1zXIPF0ml%2BGI/CWmeNPCvhDxFpw064OoXGoazpumXQu7e4%2B0eXFDHJrNknkvFIzLHMfNX5RXvXxj%2BGrfGH4aav8M28c6z4dh1qye0u9T0BLQ3SwSKVkRftcE8Q3KSpJjJAOVKnBHmXgT9gzwL4J1nSdTuvi5421u307UbDU73StVm05bXV9SsbdbayvrlbayiYywwRWsaiJo42%2BxW7SI7oXYA9zooooAK8s/bE%2BLHxV%2BCXwZk%2BI3wn0nQLq5stYsU1Q%2BIWnMcVlLcJFIYo4SpllJdVUM6Ku4uS%2BwRSep1wP7R3wFg/aP%2BHMnwy1H4n%2BJPC9jcXUM15P4YSwM1wIpFkSNje2twqqHRG%2BRVYlQN2CQQDz34GftK/EPxv8f/EHw2%2BJninRdIig8Sa3p/hrw2/w41WzuNRtrObak0WrT3RtLt/KxK8UMW4K27CqpNfQFeV%2BEf2WbbQviFpHxE8X/HHx34xm8P3F3d6HYeKLyxe3sr25haGe6T7PaQyFmSSdVjZzDEs7pFHGgRU9UoAKKKKAPGP2zPi98cfgd4Em%2BJHwtbwg1npunTONJ16zurm/8R6qzxJY6NZJDLEsMty7PGJ2MxV2j/cMu4jD/ZR/aj%2BKnxg1zwhJ8SLHw8um/E74XL488HRaJYTwT6XZ%2Bbag2d28s8q3Moi1GzPnRrCpZZh5eNprtvjL%2BzSnxf8AiT4Z%2BKUHxp8XeGdR8JWt5Fo8OhQaTPbpJchFkuTHqFjcgXAjQxLKu1ljlmQYEr7ovgZ%2ByZ4D%2BAmuJrXh7xV4g1VNP0BdB8MWOt3Fu8Ph7SFl80WFoIYI28rIiXdM0sm23hXfhAKAPUqKKKACvnL9uj9or9pX9m/Sm8ZfCvTfBmrQT/ZbPw74OutNvbvWfEF27SNeSRmGeJYIrS2X7UyhJjKkEyloCUavo2vJPiL%2ByXB8QPjJd/GmD4%2BePNBvrzw3HoL2OhSaWsUFiJHklS3lmsZLq0eZnBkkgmjkYwwkMDDGVAF/ZI%2BNXiD4x%2BFL6bxr490nVNdsDanUtLsPh/qfhufTPOgWRVlttSuJppFb5ik67Y3Cnbu2k161XB/B74DWHwm1rXPF2ofETxH4u8QeIY7OHU/EHih7T7Q9varItvbqtnb28KohmnfiPczTOWZsjHeUAFFFFAHyl%2B1v%2B2J%2B0T%2Bzb8YfDngax0/wheWvjzxTY6B4Xtrvw5qaJYG%2Bmjs7a8n1JpktryVbt90ml26LcC33TCQJGzn2f9nP4n%2BNfiBZeLPDHxJGlyeIPBHjGfQdUvtEs5La0vcW1teQzxwyyzPDm3vIQyGWTDq%2BGIxXJ/Ff9gv4efGbxH/bHjT4qeOnsbXxN/wk2gaDFqtt9l0PXhCYotTtWe2adZIizyJFJLJbLI5byemPRfg58H9F%2BDXh6%2B0jTvEGqaze6vrFxquua7rbwm71K8m2hpZPIiiiXCJHGqxxoqpEiheKAOtooooAK%2BN/jh%2B2d%2B1v8KP2gNO%2BCEdp4Vl/tW6ae8vbH4V%2BINROi2XmDyvIjjuY5NfJjkiEs9mscdrLtjlXdPGB9kV4bJ%2BwzpSeLrHxzpn7SXxQs9S0GO%2Bg8IzxavYSf2Fa3lxHPdWsYmsnF3FIYYF2332oosMfllGUNQB6Z8GvG9p8SPhdovjey8Zab4gTULISNrGkaZLZW9w4JV9tvNJLJbkMGVopHZ0ZWVsEEDpq5r4Q/Cvw38Ffh5YfDfwrcXk9rYtPLJeajMJLi7uJ5nuLi4lZVVTJLNLJI21VXc52qowB0tABRRRQAUUUUAFFFFABRRRQBifErxvY/DP4c6/8SNTtZJ7bw/ol3qVxDEcNIkELSso9yEIFeY/szfGz4xeMvG2ofDX43x%2BG5NUTwLoHiuyuvC%2Bn3FtDFDqT30T2TrPPMZHgksj%2B/BQSrMv7qMqc%2Bv65ouleJNFvPDuu2Md1Y39rJbXltKMrNE6lXQ%2BxUkH61wPwF/Zm8MfAS6vdVsfG/iTxJqN5o2m6Mmp%2BJ7m3lnt9LsBP9jskMEEIKRm5uG3uHmdpmMkjnGAD0iiiigArgf2pfiN44%2BEX7OnjP4nfDTR4L/X9D8P3F5pFndafNdxyzouVDQwOkkoz/AjKx6Aiu%2BrK8c%2BFR448Iaj4S/4SPVdIOoWrQpquh3v2e8tGP3ZYZMEK6nBGQynGGVlJBAOS/Zu%2BKF38UvBuoXur/EHTNf1LS9aksNT/ALP8EX/h2SwlEUUgt57DUJ5riKXZKkoLlQ8c0bKu0hm9CrjPg38FdK%2BDsOvXSeL9a8Rav4o1oar4h8QeIGtvtV7cLbQWkeVtYYYI1SC2gjVY4kGE3HLszN2dABRRRQB8%2B/te/tXfE79l/wAZRa4PCmhX/gq2%2BHHibxBfK00x1O6u9KsXvPJjIxFBFsVV3ESs5lPEQjzL1vwE%2BJvxb1T4i%2BLvgp8cZ/Dl5r/hnTdI1RdU8K6ZPZ2k1rqC3KrGYZ553Ekc1lcgv5mHQxnahyKr/Hz9j/w7%2B0X4203xR44%2BLHiy30uw0q90yfwlp8el/wBnX9pexeTewzGaykuSJ4f3bFJkKrzGUb5q6H4K/ALSfgzc6xrUvj3xF4r1vXfsqal4h8VT2z3ckFtF5Vvb/wCjQQxiOMNIw%2BTczzSMzMzE0Ad5RRRQAV8z/tJ/tSftJ/CX4jeNvCfhLwt4YmsdM8HaTq3hV10e/wBVvHM%2Bqw2VzNcwW8kTSKiySstvD82IQ5lPmGOP6Yrx3x3%2ByHc%2BOPjFffGiL9pv4k6JfXejR6ZFp%2BgzaRBb2lvHMJ41jZtPac4nAkIkldZOY5A8LNEQDp/2dviVL8Uvh4devfHum%2BIL221K4s9Rn03wle6EbWeNsG3msL6aW4t5VBXKyMCQysFAYZ7uuQ%2BDfwb0b4M6NqllZeJdW1zUNd1ubV9e17XXgN3qN5IkcXmOLeKKFNsUMMSrHGihIl4zknr6ACiiigD5Q%2BIn7Vn7Vvg79qnwn%2By3Zy/Dm41Dx/fX8dtfWei391F4LjhjubyzXUD9riN/Le2NjfNGqC02S2r/AOsTDH3T9mr4q6z8Zvg5p3jjxNp1ra6st7qGmaxFYbvs5vbC%2Bnsbh4g5LCJpbaRkDEkKygkkZPn2m/sC6Npd9darbftIfEX7ZJ4wufFVjfNFoX2iw1ifzEe7SX%2By98xFrNNZLHcGaNbWTygnyRFPWfhL8L/DXwZ%2BHemfDTwk91JZaZEwFzfTCS4upXdpZriVwAGllld5HIABZ2IAHFAHR0UUUAR3TXKWsj2UKSTCMmGOWQorNjgFgCVBPfBx6HpXxb4o/bc/a28FfHF/g/4r1nwIulaVo4uvFfjvwz8KNf16w0jUfJMs2jNDaXwkMlvH5Mz3bFFMd1HuhhKtn7Q1G0lv9PnsYNQmtHmhaNLq22%2BZCSCA671Zdw6jcpGRyCOK8I8G/sHT%2BAfAFl8NvC37YHxatNNsLKe0iEMugo0sc%2BTcvNs0oC4nlc%2Ba1zKHuBJvZZUMs3mAHuHhvVrTX/Dthrun6xaajBe2UU8GoWH%2BoukdAwlj%2BZvkYEMvzNwRyetXazPBPg7w78O/BmkfD/whp4tNJ0LTLfT9LtFcsIbaGNY40yxJOEVRknPFadABWV43PjYeEdRHw3XSjrxtWGknW2kFos5GFaYRDeyA8lVwWxjcudw1axPiR4E0/wCJvgbU/Aep6vqenxalbGL%2B0NGvTb3dq%2BQySwyDO11YKwyCpIwwYEggHx54a/4KJftEa3c/FWeKx8IS6d8D9Ps9Z8VzXvg7U9Lvtf064ec%2BXFYXN55%2Bi3Ecdje4F0JzMDayrGscwNfb1fPf/Dub4ZXPiXxB4w1v4ueO9R1PxvcWrfEi5ubvTkHi%2BC2EK21reJFZIkcMUcPlKLVbdmSWUOzmRifoSgAooooA5b4zap8RdF%2BH17q/wwuNLg1G12zTXWraNeakkFqh3ztHZWRWe8m8tWEcEbozuVAOflb5i/ZU/by%2BM/xm%2BIqaZ8Wtf8L%2BGNGfxCukaQi/DHWQNdkxKo/4mL3pttMuZHjI%2BwXCvPDIHt33So1fUHxW%2BGkXxT8NQ6EvjTXfDt1aajBfafrXhy6jiurWeJtykCaOSGVSNytHLHIjKxBXOCPNPB/7CPgvwjeWEb/Gbx/qukWviv8A4Sm98OavqdnLZajrpupLxtQk22qyxMbt/tBgt5IbbzEUiEfMGAPcaKKKACiiigAooooAKKKKACiiigAooooAKKKKACiiigAooooAKKKKACiiigAooooAKKKKACiiigAooooAKKKKACiiigAooooAKKKKACiiigAooooAKKKKACiiigAooooAKKKKACiiigAooooAKKKKACiiigAooooAKKKKACiiigAooooAKKKKACiiigAooooAKKKKACiiigAooooAKKKKACiiigAooooAKKKKACiiigAooooAKKKKACiiigAooooAKKKKACiiigAooooAKKKKACiiigAooooAKKKKACiiigAooooAKKKKACiiigAooooAKKKKAP/Z\">"
            ]
          },
          "metadata": {
            "tags": []
          }
        }
      ]
    },
    {
      "metadata": {
        "id": "7zcRD0LlzNak",
        "colab_type": "code",
        "colab": {}
      },
      "cell_type": "code",
      "source": [
        ""
      ],
      "execution_count": 0,
      "outputs": []
    }
  ]
}